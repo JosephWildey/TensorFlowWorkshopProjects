{
 "cells": [
  {
   "cell_type": "markdown",
   "id": "474fb816",
   "metadata": {},
   "source": [
    "# Activity 1.03: Applying Activation Functions"
   ]
  },
  {
   "cell_type": "markdown",
   "id": "c7d97956",
   "metadata": {},
   "source": [
    "## Problem statement:\n",
    "\n",
    "With car dealership sales data keep records of various salespeople and highlight net positive sales."
   ]
  },
  {
   "cell_type": "markdown",
   "id": "846b064f",
   "metadata": {},
   "source": [
    "## Data Preprocessing"
   ]
  },
  {
   "cell_type": "markdown",
   "id": "c4e5803f",
   "metadata": {},
   "source": [
    "### Import libraries"
   ]
  },
  {
   "cell_type": "code",
   "execution_count": 1,
   "id": "e4686744",
   "metadata": {},
   "outputs": [],
   "source": [
    "import tensorflow as tf"
   ]
  },
  {
   "cell_type": "markdown",
   "id": "85cdf884",
   "metadata": {},
   "source": [
    "## Create a 3x4 tensor\n",
    "\n",
    "The rows represent the sales of various sales representatives.\n",
    "The columns represent various vehicles available at the dealership.\n",
    "The values represent the average percentage difference from MSRP: Positive are sales greater than MSRP, and negatives are sales less than MSRP."
   ]
  },
  {
   "cell_type": "code",
   "execution_count": 15,
   "id": "4fcbccc7",
   "metadata": {},
   "outputs": [],
   "source": [
    "salesperson_MSRP = tf.Variable([[-0.013, 0.024, 0.06, 0.022], \n",
    "                                         [0.001, -0.047, 0.039, 0.016], \n",
    "                                         [0.018, 0.030, -0.021, -0.028]])"
   ]
  },
  {
   "cell_type": "markdown",
   "id": "c3974e8d",
   "metadata": {},
   "source": [
    "### Confirm the 3x4 Tensor"
   ]
  },
  {
   "cell_type": "code",
   "execution_count": 16,
   "id": "1ffe5c2d",
   "metadata": {},
   "outputs": [
    {
     "data": {
      "text/plain": [
       "[3, 4]"
      ]
     },
     "execution_count": 16,
     "metadata": {},
     "output_type": "execute_result"
    }
   ],
   "source": [
    "salesperson_MSRP.shape.as_list()"
   ]
  },
  {
   "cell_type": "markdown",
   "id": "933afd4c",
   "metadata": {},
   "source": [
    "## Create a 4x1 Tensor\n",
    "\n",
    "The tensor will represent the MSRP of the cars"
   ]
  },
  {
   "cell_type": "code",
   "execution_count": 17,
   "id": "c8b64332",
   "metadata": {},
   "outputs": [],
   "source": [
    "vehicles_MSRP = tf.Variable([[19995.95], [24995.50],\n",
    "                            [36745.50], [29995.95]])"
   ]
  },
  {
   "cell_type": "markdown",
   "id": "fec46a48",
   "metadata": {},
   "source": [
    "### Conirm 4x1 Tensor"
   ]
  },
  {
   "cell_type": "code",
   "execution_count": 18,
   "id": "f97b1f6a",
   "metadata": {},
   "outputs": [
    {
     "data": {
      "text/plain": [
       "[4, 1]"
      ]
     },
     "execution_count": 18,
     "metadata": {},
     "output_type": "execute_result"
    }
   ],
   "source": [
    "vehicles_MSRP.shape.as_list()"
   ]
  },
  {
   "cell_type": "markdown",
   "id": "372424a7",
   "metadata": {},
   "source": [
    "## 3x1 Tensor\n",
    "\n",
    "Represents the fixed costs associated with each salesperson"
   ]
  },
  {
   "cell_type": "code",
   "execution_count": 19,
   "id": "81dab307",
   "metadata": {},
   "outputs": [],
   "source": [
    "fixed_costs = tf.Variable([[-2500.0],\n",
    "                           [-2500.0],\n",
    "                           [-2500.0]])"
   ]
  },
  {
   "cell_type": "markdown",
   "id": "6ce0c266",
   "metadata": {},
   "source": [
    "### Confirm the shape"
   ]
  },
  {
   "cell_type": "code",
   "execution_count": 20,
   "id": "6039ea54",
   "metadata": {},
   "outputs": [
    {
     "data": {
      "text/plain": [
       "[3, 1]"
      ]
     },
     "execution_count": 20,
     "metadata": {},
     "output_type": "execute_result"
    }
   ],
   "source": [
    "fixed_costs.shape.as_list()"
   ]
  },
  {
   "cell_type": "markdown",
   "id": "2f21a728",
   "metadata": {},
   "source": [
    "### Matrix math\n",
    "\n",
    "Multiply the salesperson's sales as a percentage of MSRP by the vehicle's MSRP\n",
    "Then add the the final bias to get the total sale value of each salesperson"
   ]
  },
  {
   "cell_type": "code",
   "execution_count": 23,
   "id": "6b3e6779",
   "metadata": {},
   "outputs": [
    {
     "data": {
      "text/plain": [
       "<tf.Tensor: shape=(3, 1), dtype=float32, numpy=\n",
       "array([[  704.58545],\n",
       "       [-1741.7827 ],\n",
       "       [-3001.75   ]], dtype=float32)>"
      ]
     },
     "execution_count": 23,
     "metadata": {},
     "output_type": "execute_result"
    }
   ],
   "source": [
    "average_sale = tf.matmul(salesperson_MSRP, vehicles_MSRP)\n",
    "average_sale += fixed_costs\n",
    "\n",
    "average_sale"
   ]
  },
  {
   "cell_type": "markdown",
   "id": "f6b1f05d",
   "metadata": {},
   "source": [
    "## Conclusion\n",
    "\n",
    "The first salesperson made over \\\\$700 in sales, and the other two were negative by more than $1,700 each."
   ]
  }
 ],
 "metadata": {
  "kernelspec": {
   "display_name": "tensorflow",
   "language": "python",
   "name": "tensorflow"
  },
  "language_info": {
   "codemirror_mode": {
    "name": "ipython",
    "version": 3
   },
   "file_extension": ".py",
   "mimetype": "text/x-python",
   "name": "python",
   "nbconvert_exporter": "python",
   "pygments_lexer": "ipython3",
   "version": "3.7.12"
  }
 },
 "nbformat": 4,
 "nbformat_minor": 5
}

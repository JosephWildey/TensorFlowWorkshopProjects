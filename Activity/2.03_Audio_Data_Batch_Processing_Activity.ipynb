{
 "cells": [
  {
   "cell_type": "markdown",
   "id": "de79f9df",
   "metadata": {},
   "source": [
    "## Activity 2.03: Loading Audio Data for Processing Activity\n",
    "\n",
    "The result of this activity is will be to create an audio dataset object that can be used for Tensorflow model training."
   ]
  },
  {
   "cell_type": "markdown",
   "id": "81aec2a3",
   "metadata": {},
   "source": [
    "## Import tensorflow API and os module"
   ]
  },
  {
   "cell_type": "code",
   "execution_count": 1,
   "id": "fa3f16b3",
   "metadata": {},
   "outputs": [],
   "source": [
    "import tensorflow as tf\n",
    "import os"
   ]
  },
  {
   "cell_type": "markdown",
   "id": "454fc82d",
   "metadata": {},
   "source": [
    "## Create a function to load and decode an audio file"
   ]
  },
  {
   "cell_type": "code",
   "execution_count": 4,
   "id": "b86a0b28",
   "metadata": {},
   "outputs": [],
   "source": [
    "def load_audio(file_path, sample_rate=44100):\n",
    "    audio = tf.io.read_file(file_path)\n",
    "    audio, sample_rate = tf.audio.decode_wav(audio,\n",
    "                                            desired_channels=1, desired_samples=sample_rate)\n",
    "    \n",
    "    return tf.transpose(audio)"
   ]
  },
  {
   "cell_type": "markdown",
   "id": "b27f72be",
   "metadata": {},
   "source": [
    "## Load the audio paths using os.listdir"
   ]
  },
  {
   "cell_type": "code",
   "execution_count": 6,
   "id": "2f7fa149",
   "metadata": {},
   "outputs": [],
   "source": [
    "prefix = \"../Datasets/data_speech_commands_v0.02/zero/\"\n",
    "\n",
    "paths = [os.path.join(prefix, paths) for paths in os.listdir(prefix)]"
   ]
  },
  {
   "cell_type": "markdown",
   "id": "b2e3b0f6",
   "metadata": {},
   "source": [
    "## Create a function that takes a dataset object, shuffles it, and loads the audio using the load_audio function"
   ]
  },
  {
   "cell_type": "code",
   "execution_count": 8,
   "id": "68943b8b",
   "metadata": {},
   "outputs": [],
   "source": [
    "def prep_ds(ds, shuffle_buffer_size=1024, batch_size=64):\n",
    "    # Randomly shuffle dataset\n",
    "    ds = ds.shuffle(buffer_size=shuffle_buffer_size)\n",
    "    # Load and decode audio file from file paths\n",
    "    ds = ds.map(load_audio)\n",
    "    # Take the absolute value\n",
    "    ds = ds.map(tf.abs)\n",
    "    # Apply log1p function\n",
    "    ds = ds.map(tf.math.log1p)\n",
    "    # Repeat dataset forever\n",
    "    ds = ds.repeat()\n",
    "    # Prepare batches\n",
    "    ds = ds.batch(batch_size)\n",
    "    # Prefetch\n",
    "    ds = ds.prefetch(buffer_size=batch_size)\n",
    "    \n",
    "    return ds"
   ]
  },
  {
   "cell_type": "code",
   "execution_count": 9,
   "id": "565c163a",
   "metadata": {},
   "outputs": [],
   "source": [
    "ds = tf.data.Dataset.from_tensor_slices(paths)\n",
    "\n",
    "train_ds = prep_ds(ds)"
   ]
  },
  {
   "cell_type": "code",
   "execution_count": 10,
   "id": "69ee3e3c",
   "metadata": {},
   "outputs": [
    {
     "name": "stdout",
     "output_type": "stream",
     "text": [
      "tf.Tensor(\n",
      "[[[5.4805797e-02 9.1340572e-02 7.0485085e-02 ... 0.0000000e+00\n",
      "   0.0000000e+00 0.0000000e+00]]\n",
      "\n",
      " [[6.1033294e-05 3.0512922e-04 2.7462048e-04 ... 0.0000000e+00\n",
      "   0.0000000e+00 0.0000000e+00]]\n",
      "\n",
      " [[1.6465929e-03 2.7428172e-03 3.2600611e-03 ... 0.0000000e+00\n",
      "   0.0000000e+00 0.0000000e+00]]\n",
      "\n",
      " ...\n",
      "\n",
      " [[3.5946060e-03 7.5701508e-03 8.9019109e-03 ... 0.0000000e+00\n",
      "   0.0000000e+00 0.0000000e+00]]\n",
      "\n",
      " [[1.5257625e-04 1.5257625e-04 5.1866431e-04 ... 0.0000000e+00\n",
      "   0.0000000e+00 0.0000000e+00]]\n",
      "\n",
      " [[4.7190720e-03 5.3567206e-03 5.2656531e-03 ... 0.0000000e+00\n",
      "   0.0000000e+00 0.0000000e+00]]], shape=(64, 1, 44100), dtype=float32)\n"
     ]
    }
   ],
   "source": [
    "for x in train_ds.take(1):\n",
    "    print(x)"
   ]
  },
  {
   "cell_type": "markdown",
   "id": "08624489",
   "metadata": {},
   "source": [
    "## Plot the first audio file from the batch\n",
    "\n",
    "The output will show the first batch of MFCC spectrum values in tensor form"
   ]
  },
  {
   "cell_type": "code",
   "execution_count": 12,
   "id": "1806d5b2",
   "metadata": {},
   "outputs": [
    {
     "data": {
      "text/plain": [
       "Text(0, 0.5, 'Value')"
      ]
     },
     "execution_count": 12,
     "metadata": {},
     "output_type": "execute_result"
    },
    {
     "data": {
      "image/png": "[encoded data removed]",
      "text/plain": [
       "<Figure size 432x288 with 1 Axes>"
      ]
     },
     "metadata": {
      "needs_background": "light"
     },
     "output_type": "display_data"
    }
   ],
   "source": [
    "import matplotlib.pyplot as plt\n",
    "\n",
    "plt.plot(x[0,:,:].numpy().T, color='gray')\n",
    "\n",
    "plt.xlabel('Sample')\n",
    "\n",
    "plt.ylabel('Value')"
   ]
  },
  {
   "cell_type": "code",
   "execution_count": null,
   "id": "c6f69a96",
   "metadata": {},
   "outputs": [],
   "source": []
  }
 ],
 "metadata": {
  "kernelspec": {
   "display_name": "tensorflow",
   "language": "python",
   "name": "tensorflow"
  },
  "language_info": {
   "codemirror_mode": {
    "name": "ipython",
    "version": 3
   },
   "file_extension": ".py",
   "mimetype": "text/x-python",
   "name": "python",
   "nbconvert_exporter": "python",
   "pygments_lexer": "ipython3",
   "version": "3.7.12"
  }
 },
 "nbformat": 4,
 "nbformat_minor": 5
}

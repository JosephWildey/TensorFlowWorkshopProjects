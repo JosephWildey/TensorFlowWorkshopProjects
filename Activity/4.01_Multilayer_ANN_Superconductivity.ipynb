{
 "cells": [
  {
   "cell_type": "markdown",
   "id": "4fbac8ad",
   "metadata": {},
   "source": [
    "### Import Tensorflow and Pandas"
   ]
  },
  {
   "cell_type": "code",
   "execution_count": 51,
   "id": "0137a175",
   "metadata": {},
   "outputs": [],
   "source": [
    "import tensorflow as tf\n",
    "import pandas as pd"
   ]
  },
  {
   "cell_type": "markdown",
   "id": "56a89983",
   "metadata": {},
   "source": [
    "### Preprocess data"
   ]
  },
  {
   "cell_type": "code",
   "execution_count": 52,
   "id": "1943f8ab",
   "metadata": {},
   "outputs": [],
   "source": [
    "df = pd.read_csv(\"C:\\\\Users\\\\JoeWi\\\\TensorFlowWorkshopProjects\\\\Activity\\\\Data\\\\superconductivity.csv\")\n",
    "\n",
    "df.dropna(inplace=True)"
   ]
  },
  {
   "cell_type": "code",
   "execution_count": 53,
   "id": "b6a44dc5",
   "metadata": {},
   "outputs": [],
   "source": [
    "target = df[['critical_temp']]\n",
    "\n",
    "features = df.drop(['critical_temp'],\n",
    "                  axis=1)"
   ]
  },
  {
   "cell_type": "markdown",
   "id": "2b9d9c55",
   "metadata": {},
   "source": [
    "### Rescale dataset"
   ]
  },
  {
   "cell_type": "code",
   "execution_count": 54,
   "id": "67853b78",
   "metadata": {},
   "outputs": [],
   "source": [
    "from sklearn.preprocessing import StandardScaler\n",
    "\n",
    "scaler = StandardScaler()\n",
    "\n",
    "feature_array = scaler.fit_transform(features)\n",
    "\n",
    "features = pd.DataFrame(feature_array,\n",
    "                       columns=features.columns)"
   ]
  },
  {
   "cell_type": "markdown",
   "id": "026e19c8",
   "metadata": {},
   "source": [
    "### Init Keras Sequential Class model"
   ]
  },
  {
   "cell_type": "code",
   "execution_count": 55,
   "id": "0abe9e73",
   "metadata": {},
   "outputs": [],
   "source": [
    "model = tf.keras.Sequential()"
   ]
  },
  {
   "cell_type": "markdown",
   "id": "8fab3fa2",
   "metadata": {},
   "source": [
    "### Add an input layer, and four hidden layers"
   ]
  },
  {
   "cell_type": "code",
   "execution_count": 56,
   "id": "858c35ba",
   "metadata": {},
   "outputs": [],
   "source": [
    "model.add(tf.keras.layers.InputLayer(\n",
    "          input_shape=(features.shape[1],),\n",
    "          name=\"Input_layer\"))\n",
    "\n",
    "model.add(tf.keras.layers.Dense(64, activation='relu', name=\"Hidden_layer_1\"))\n",
    "\n",
    "model.add(tf.keras.layers.Dense(32, name=\"Hidden_layer_2\"))\n",
    "\n",
    "model.add(tf.keras.layers.Dense(16, name=\"Hidden_layer_3\"))\n",
    "\n",
    "model.add(tf.keras.layers.Dense(8, name=\"Hidden_layer_4\"))\n",
    "\n",
    "model.add(tf.keras.layers.Dense(1, name='Output_layer'))"
   ]
  },
  {
   "cell_type": "markdown",
   "id": "72745de2",
   "metadata": {},
   "source": [
    "### Compile the model"
   ]
  },
  {
   "cell_type": "code",
   "execution_count": 57,
   "id": "728f7a7b",
   "metadata": {},
   "outputs": [],
   "source": [
    "model.compile(tf.optimizers.RMSprop(0.001), loss='mse')"
   ]
  },
  {
   "cell_type": "markdown",
   "id": "335b4aac",
   "metadata": {},
   "source": [
    "### TensorBoard callback"
   ]
  },
  {
   "cell_type": "code",
   "execution_count": 58,
   "id": "3c7084f8",
   "metadata": {},
   "outputs": [],
   "source": [
    "tensorboard_callback = tf.keras.callbacks.TensorBoard(log_dir=\"./logs\")"
   ]
  },
  {
   "cell_type": "markdown",
   "id": "61d0d081",
   "metadata": {},
   "source": [
    "### Fit the model"
   ]
  },
  {
   "cell_type": "code",
   "execution_count": 59,
   "id": "38276776",
   "metadata": {},
   "outputs": [
    {
     "name": "stdout",
     "output_type": "stream",
     "text": [
      "Epoch 1/100\n",
      "532/532 [==============================] - 1s 1ms/step - loss: 393.5807 - val_loss: 250.3793\n",
      "Epoch 2/100\n",
      "532/532 [==============================] - 1s 1ms/step - loss: 277.3573 - val_loss: 249.8696\n",
      "Epoch 3/100\n",
      "532/532 [==============================] - 1s 1ms/step - loss: 263.0928 - val_loss: 273.3875\n",
      "Epoch 4/100\n",
      "532/532 [==============================] - 1s 1ms/step - loss: 252.1606 - val_loss: 254.3204\n",
      "Epoch 5/100\n",
      "532/532 [==============================] - 1s 1ms/step - loss: 244.7086 - val_loss: 246.6477\n",
      "Epoch 6/100\n",
      "532/532 [==============================] - 1s 1ms/step - loss: 238.8229 - val_loss: 250.9212\n",
      "Epoch 7/100\n",
      "532/532 [==============================] - 1s 1ms/step - loss: 234.1785 - val_loss: 255.1539\n",
      "Epoch 8/100\n",
      "532/532 [==============================] - 1s 1ms/step - loss: 229.0460 - val_loss: 244.0040\n",
      "Epoch 9/100\n",
      "532/532 [==============================] - 1s 1ms/step - loss: 225.7912 - val_loss: 240.8053\n",
      "Epoch 10/100\n",
      "532/532 [==============================] - 1s 1ms/step - loss: 222.4838 - val_loss: 263.7413\n",
      "Epoch 11/100\n",
      "532/532 [==============================] - 1s 1ms/step - loss: 219.9033 - val_loss: 259.6489\n",
      "Epoch 12/100\n",
      "532/532 [==============================] - 1s 999us/step - loss: 217.8564 - val_loss: 259.6315\n",
      "Epoch 13/100\n",
      "532/532 [==============================] - 1s 1ms/step - loss: 214.8677 - val_loss: 285.4363\n",
      "Epoch 14/100\n",
      "532/532 [==============================] - 1s 1ms/step - loss: 213.6343 - val_loss: 232.0680\n",
      "Epoch 15/100\n",
      "532/532 [==============================] - 1s 990us/step - loss: 210.9911 - val_loss: 230.5200\n",
      "Epoch 16/100\n",
      "532/532 [==============================] - 0s 917us/step - loss: 209.4711 - val_loss: 229.6050\n",
      "Epoch 17/100\n",
      "532/532 [==============================] - 0s 923us/step - loss: 207.6087 - val_loss: 240.1000\n",
      "Epoch 18/100\n",
      "532/532 [==============================] - 1s 1ms/step - loss: 207.4416 - val_loss: 262.5974\n",
      "Epoch 19/100\n",
      "532/532 [==============================] - 1s 1ms/step - loss: 205.7336 - val_loss: 241.3396\n",
      "Epoch 20/100\n",
      "532/532 [==============================] - 1s 1ms/step - loss: 203.0839 - val_loss: 245.7522\n",
      "Epoch 21/100\n",
      "532/532 [==============================] - 1s 1ms/step - loss: 203.1336 - val_loss: 252.7166\n",
      "Epoch 22/100\n",
      "532/532 [==============================] - 1s 982us/step - loss: 200.9039 - val_loss: 234.6299\n",
      "Epoch 23/100\n",
      "532/532 [==============================] - 1s 996us/step - loss: 200.4886 - val_loss: 225.0107\n",
      "Epoch 24/100\n",
      "532/532 [==============================] - 1s 1ms/step - loss: 199.2458 - val_loss: 237.6624\n",
      "Epoch 25/100\n",
      "532/532 [==============================] - 0s 913us/step - loss: 199.1244 - val_loss: 235.6497\n",
      "Epoch 26/100\n",
      "532/532 [==============================] - 1s 1ms/step - loss: 197.2791 - val_loss: 247.9867\n",
      "Epoch 27/100\n",
      "532/532 [==============================] - 1s 1ms/step - loss: 197.8573 - val_loss: 214.9980\n",
      "Epoch 28/100\n",
      "532/532 [==============================] - 1s 1ms/step - loss: 194.7868 - val_loss: 239.8680\n",
      "Epoch 29/100\n",
      "532/532 [==============================] - 1s 1ms/step - loss: 195.2685 - val_loss: 255.5455\n",
      "Epoch 30/100\n",
      "532/532 [==============================] - 1s 1ms/step - loss: 193.3140 - val_loss: 229.0744\n",
      "Epoch 31/100\n",
      "532/532 [==============================] - 1s 1ms/step - loss: 191.2451 - val_loss: 247.0075\n",
      "Epoch 32/100\n",
      "532/532 [==============================] - 1s 1ms/step - loss: 191.3466 - val_loss: 236.9205\n",
      "Epoch 33/100\n",
      "532/532 [==============================] - 1s 1ms/step - loss: 191.5684 - val_loss: 227.1020\n",
      "Epoch 34/100\n",
      "532/532 [==============================] - 1s 1ms/step - loss: 190.7893 - val_loss: 231.4289\n",
      "Epoch 35/100\n",
      "532/532 [==============================] - 1s 1ms/step - loss: 189.1397 - val_loss: 219.8285\n",
      "Epoch 36/100\n",
      "532/532 [==============================] - 1s 1ms/step - loss: 188.6252 - val_loss: 336.3397\n",
      "Epoch 37/100\n",
      "532/532 [==============================] - 1s 1ms/step - loss: 187.9651 - val_loss: 219.1724\n",
      "Epoch 38/100\n",
      "532/532 [==============================] - 1s 1ms/step - loss: 187.7667 - val_loss: 270.5767\n",
      "Epoch 39/100\n",
      "532/532 [==============================] - 1s 1ms/step - loss: 186.2154 - val_loss: 239.8704\n",
      "Epoch 40/100\n",
      "532/532 [==============================] - 1s 1ms/step - loss: 186.6057 - val_loss: 243.9435\n",
      "Epoch 41/100\n",
      "532/532 [==============================] - 1s 1ms/step - loss: 184.9041 - val_loss: 248.9019\n",
      "Epoch 42/100\n",
      "532/532 [==============================] - 1s 1ms/step - loss: 185.3729 - val_loss: 233.3928\n",
      "Epoch 43/100\n",
      "532/532 [==============================] - 1s 1ms/step - loss: 182.8989 - val_loss: 272.5974\n",
      "Epoch 44/100\n",
      "532/532 [==============================] - 1s 1ms/step - loss: 182.9102 - val_loss: 283.2636\n",
      "Epoch 45/100\n",
      "532/532 [==============================] - 1s 1ms/step - loss: 182.5943 - val_loss: 275.7888\n",
      "Epoch 46/100\n",
      "532/532 [==============================] - 1s 1ms/step - loss: 181.8428 - val_loss: 293.4155\n",
      "Epoch 47/100\n",
      "532/532 [==============================] - 1s 985us/step - loss: 181.2969 - val_loss: 270.6792\n",
      "Epoch 48/100\n",
      "532/532 [==============================] - 1s 1ms/step - loss: 180.3862 - val_loss: 239.7994\n",
      "Epoch 49/100\n",
      "532/532 [==============================] - 1s 975us/step - loss: 180.8277 - val_loss: 269.6877\n",
      "Epoch 50/100\n",
      "532/532 [==============================] - 1s 1ms/step - loss: 179.2663 - val_loss: 256.3325\n",
      "Epoch 51/100\n",
      "532/532 [==============================] - 1s 1ms/step - loss: 178.6835 - val_loss: 280.2838\n",
      "Epoch 52/100\n",
      "532/532 [==============================] - 1s 1ms/step - loss: 178.4925 - val_loss: 268.8344\n",
      "Epoch 53/100\n",
      "532/532 [==============================] - 1s 1ms/step - loss: 178.1675 - val_loss: 268.7479\n",
      "Epoch 54/100\n",
      "532/532 [==============================] - 1s 1ms/step - loss: 178.1283 - val_loss: 255.3316\n",
      "Epoch 55/100\n",
      "532/532 [==============================] - 1s 1ms/step - loss: 177.9203 - val_loss: 281.4782\n",
      "Epoch 56/100\n",
      "532/532 [==============================] - 1s 1ms/step - loss: 175.8302 - val_loss: 270.3373\n",
      "Epoch 57/100\n",
      "532/532 [==============================] - 1s 1ms/step - loss: 176.4606 - val_loss: 299.3501\n",
      "Epoch 58/100\n",
      "532/532 [==============================] - 1s 1ms/step - loss: 175.3907 - val_loss: 264.9435\n",
      "Epoch 59/100\n",
      "532/532 [==============================] - 1s 1ms/step - loss: 174.4942 - val_loss: 279.0246\n",
      "Epoch 60/100\n",
      "532/532 [==============================] - 1s 1ms/step - loss: 175.0747 - val_loss: 253.9737\n",
      "Epoch 61/100\n",
      "532/532 [==============================] - 1s 1ms/step - loss: 174.1351 - val_loss: 267.6941\n",
      "Epoch 62/100\n",
      "532/532 [==============================] - 1s 1ms/step - loss: 173.5229 - val_loss: 270.2965\n",
      "Epoch 63/100\n",
      "532/532 [==============================] - 1s 1ms/step - loss: 174.8381 - val_loss: 279.2885\n",
      "Epoch 64/100\n",
      "532/532 [==============================] - 1s 1ms/step - loss: 173.1449 - val_loss: 277.1058\n",
      "Epoch 65/100\n",
      "532/532 [==============================] - 1s 1ms/step - loss: 172.6397 - val_loss: 244.1932\n",
      "Epoch 66/100\n",
      "532/532 [==============================] - 1s 1ms/step - loss: 173.0898 - val_loss: 258.2897\n",
      "Epoch 67/100\n",
      "532/532 [==============================] - 1s 1ms/step - loss: 170.7142 - val_loss: 313.4185\n",
      "Epoch 68/100\n",
      "532/532 [==============================] - 1s 959us/step - loss: 170.6441 - val_loss: 290.6695\n",
      "Epoch 69/100\n",
      "532/532 [==============================] - 1s 969us/step - loss: 170.6592 - val_loss: 262.4208\n",
      "Epoch 70/100\n",
      "532/532 [==============================] - 1s 1ms/step - loss: 170.3965 - val_loss: 273.8737\n",
      "Epoch 71/100\n",
      "532/532 [==============================] - 1s 973us/step - loss: 170.3974 - val_loss: 284.8666\n",
      "Epoch 72/100\n",
      "532/532 [==============================] - 1s 1ms/step - loss: 170.1412 - val_loss: 270.5761\n",
      "Epoch 73/100\n",
      "532/532 [==============================] - 1s 983us/step - loss: 170.7580 - val_loss: 270.7844\n",
      "Epoch 74/100\n",
      "532/532 [==============================] - 1s 1ms/step - loss: 169.5884 - val_loss: 249.2194\n",
      "Epoch 75/100\n",
      "532/532 [==============================] - 1s 1ms/step - loss: 168.8185 - val_loss: 249.6702\n",
      "Epoch 76/100\n",
      "532/532 [==============================] - 1s 1ms/step - loss: 168.4377 - val_loss: 239.1577\n",
      "Epoch 77/100\n",
      "532/532 [==============================] - 1s 982us/step - loss: 169.0535 - val_loss: 264.1157\n",
      "Epoch 78/100\n"
     ]
    },
    {
     "name": "stdout",
     "output_type": "stream",
     "text": [
      "532/532 [==============================] - 1s 967us/step - loss: 168.1373 - val_loss: 273.6494\n",
      "Epoch 79/100\n",
      "532/532 [==============================] - 1s 1ms/step - loss: 167.7390 - val_loss: 283.6802\n",
      "Epoch 80/100\n",
      "532/532 [==============================] - 1s 1ms/step - loss: 166.7125 - val_loss: 252.5662\n",
      "Epoch 81/100\n",
      "532/532 [==============================] - 1s 989us/step - loss: 167.3542 - val_loss: 236.4247\n",
      "Epoch 82/100\n",
      "532/532 [==============================] - 1s 1ms/step - loss: 165.2741 - val_loss: 250.5505\n",
      "Epoch 83/100\n",
      "532/532 [==============================] - 1s 1ms/step - loss: 166.1122 - val_loss: 319.0824\n",
      "Epoch 84/100\n",
      "532/532 [==============================] - 1s 1ms/step - loss: 166.4294 - val_loss: 257.7851\n",
      "Epoch 85/100\n",
      "532/532 [==============================] - 1s 1ms/step - loss: 165.9742 - val_loss: 271.7542\n",
      "Epoch 86/100\n",
      "532/532 [==============================] - 1s 1ms/step - loss: 164.7052 - val_loss: 241.5938\n",
      "Epoch 87/100\n",
      "532/532 [==============================] - 1s 1ms/step - loss: 164.3483 - val_loss: 259.9162\n",
      "Epoch 88/100\n",
      "532/532 [==============================] - 1s 1ms/step - loss: 164.8717 - val_loss: 264.0552\n",
      "Epoch 89/100\n",
      "532/532 [==============================] - 1s 1ms/step - loss: 163.8514 - val_loss: 281.6143\n",
      "Epoch 90/100\n",
      "532/532 [==============================] - 1s 1ms/step - loss: 164.3087 - val_loss: 262.9445\n",
      "Epoch 91/100\n",
      "532/532 [==============================] - 1s 1ms/step - loss: 163.2966 - val_loss: 284.2034\n",
      "Epoch 92/100\n",
      "532/532 [==============================] - 1s 1ms/step - loss: 164.5241 - val_loss: 250.3020\n",
      "Epoch 93/100\n",
      "532/532 [==============================] - 1s 1ms/step - loss: 162.6626 - val_loss: 264.7209\n",
      "Epoch 94/100\n",
      "532/532 [==============================] - 1s 1ms/step - loss: 161.9260 - val_loss: 264.0356\n",
      "Epoch 95/100\n",
      "532/532 [==============================] - 1s 1ms/step - loss: 161.0878 - val_loss: 273.6920\n",
      "Epoch 96/100\n",
      "532/532 [==============================] - 1s 1ms/step - loss: 162.2862 - val_loss: 285.8619\n",
      "Epoch 97/100\n",
      "532/532 [==============================] - 1s 1ms/step - loss: 161.9283 - val_loss: 258.0467\n",
      "Epoch 98/100\n",
      "532/532 [==============================] - 1s 2ms/step - loss: 161.5978 - val_loss: 314.7868\n",
      "Epoch 99/100\n",
      "532/532 [==============================] - 1s 2ms/step - loss: 161.5746 - val_loss: 276.5112\n",
      "Epoch 100/100\n",
      "532/532 [==============================] - 1s 1ms/step - loss: 161.0726 - val_loss: 291.9200\n"
     ]
    },
    {
     "data": {
      "text/plain": [
       "<keras.callbacks.History at 0x2028a9a3148>"
      ]
     },
     "execution_count": 59,
     "metadata": {},
     "output_type": "execute_result"
    }
   ],
   "source": [
    "model.fit(x=features.to_numpy(),\n",
    "         y=target.to_numpy(),\n",
    "         batch_size=32,\n",
    "         epochs=100,\n",
    "         callbacks=[tensorboard_callback],\n",
    "         validation_split=0.2)"
   ]
  },
  {
   "cell_type": "markdown",
   "id": "be5066e0",
   "metadata": {},
   "source": [
    "### Evaluate model"
   ]
  },
  {
   "cell_type": "code",
   "execution_count": 60,
   "id": "7a3392be",
   "metadata": {},
   "outputs": [
    {
     "name": "stdout",
     "output_type": "stream",
     "text": [
      "665/665 [==============================] - 1s 851us/step - loss: 190.1541\n",
      "loss:  190.1540985107422\n"
     ]
    }
   ],
   "source": [
    "loss = model.evaluate(features.to_numpy(),\n",
    "                     target.to_numpy())\n",
    "\n",
    "print(\"loss: \", loss)"
   ]
  }
 ],
 "metadata": {
  "kernelspec": {
   "display_name": "tensorflow",
   "language": "python",
   "name": "tensorflow"
  },
  "language_info": {
   "codemirror_mode": {
    "name": "ipython",
    "version": 3
   },
   "file_extension": ".py",
   "mimetype": "text/x-python",
   "name": "python",
   "nbconvert_exporter": "python",
   "pygments_lexer": "ipython3",
   "version": "3.7.12"
  }
 },
 "nbformat": 4,
 "nbformat_minor": 5
}

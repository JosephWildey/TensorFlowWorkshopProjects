{
 "cells": [
  {
   "cell_type": "markdown",
   "id": "7d581512",
   "metadata": {},
   "source": [
    "# Performing Tensor Addition in TensorFlow"
   ]
  },
  {
   "cell_type": "markdown",
   "id": "e297e109",
   "metadata": {},
   "source": [
    "## Problem Statement:\n",
    "\n",
    "\"My company has three locations, each with two salespersons and each location sells three products. I am required to sum the tensors to represent the total revenue for each product across locations\" (Moocarme et al., 2021)."
   ]
  },
  {
   "cell_type": "markdown",
   "id": "c91aca22",
   "metadata": {},
   "source": [
    "# Index\n",
    "\n",
    "1. [Import Tensorflow](http://localhost:8888/notebooks/The-TensorFlow-Workshop/TensorFlow%20Activity%201.01.ipynb#Import-TensorFlow)\n",
    "2. [Create Some Scalers](http://localhost:8888/notebooks/The-TensorFlow-Workshop/TensorFlow%20Activity%201.01.ipynb#Create-some-scalers)\n",
    "3. [Create a vector and scaler](http://localhost:8888/notebooks/The-TensorFlow-Workshop/TensorFlow%20Activity%201.01.ipynb#Create-a-vector-and-scaler)\n",
    "4. [Create three matrices](http://localhost:8888/notebooks/The-TensorFlow-Workshop/TensorFlow%20Activity%201.01.ipynb#Create-three-matrices)\n",
    "5. [Total Sales](http://localhost:8888/notebooks/The-TensorFlow-Workshop/TensorFlow%20Activity%201.01.ipynb#Total-sales)\n",
    "6. [Citation](http://localhost:8888/notebooks/The-TensorFlow-Workshop/TensorFlow%20Activity%201.01.ipynb#References)"
   ]
  },
  {
   "cell_type": "markdown",
   "id": "a8493c75",
   "metadata": {},
   "source": [
    "## Import TensorFlow"
   ]
  },
  {
   "cell_type": "code",
   "execution_count": 38,
   "id": "eff48ad3",
   "metadata": {},
   "outputs": [],
   "source": [
    "import tensorflow as tf"
   ]
  },
  {
   "cell_type": "markdown",
   "id": "61924c0d",
   "metadata": {},
   "source": [
    "## Create some scalers"
   ]
  },
  {
   "cell_type": "markdown",
   "id": "ec534454",
   "metadata": {},
   "source": [
    "### Create two scalers representing the sales of product A by each sales person at location 1"
   ]
  },
  {
   "cell_type": "code",
   "execution_count": 23,
   "id": "47c9ad9f",
   "metadata": {},
   "outputs": [],
   "source": [
    "locx_salesperson1_prodA = tf.Variable(2706, tf.int32)\n",
    "locx_salesperson2_prodA = tf.Variable(2386, tf.int32)"
   ]
  },
  {
   "cell_type": "markdown",
   "id": "9f496efd",
   "metadata": {},
   "source": [
    "### Sum the scalers and print the result\n",
    "\n",
    "The result gives us the total amount of sales of product A at location 1."
   ]
  },
  {
   "cell_type": "code",
   "execution_count": 24,
   "id": "0baa4eb9",
   "metadata": {},
   "outputs": [
    {
     "name": "stdout",
     "output_type": "stream",
     "text": [
      "The total sales of product A at location x was: 5092\n"
     ]
    }
   ],
   "source": [
    "locx_prodA_total_sales = locx_salesperson1_prodA + locx_salesperson2_prodA\n",
    "\n",
    "print(\"The total sales of product A at location x was: \" + str(locx_prodA_total_sales.numpy()))"
   ]
  },
  {
   "cell_type": "markdown",
   "id": "9e7b1c8e",
   "metadata": {},
   "source": [
    "## Create a vector and scaler\n",
    "\n",
    "The role of a scaler is to add 95 sales to all products sold by salesperson1. A scaler, scales the size of an array by increasing or decreasing each value by its amount. This is simply a more efficient way of tracking total sales, if they all increase or decrease by the same amount across the board."
   ]
  },
  {
   "cell_type": "code",
   "execution_count": 27,
   "id": "0df2d670",
   "metadata": {},
   "outputs": [
    {
     "name": "stdout",
     "output_type": "stream",
     "text": [
      "[2801 2894 5197]\n",
      "The total sales of all products for salesperson1 was: 10892\n"
     ]
    }
   ],
   "source": [
    "salesperson1_vec = tf.Variable([2706, 2799, 5102])\n",
    "salesperson1_scaler = tf.Variable(95)\n",
    "\n",
    "salesperson1_sales = salesperson1_vec + salesperson1_scaler\n",
    "\n",
    "print(salesperson1_sales.numpy())\n",
    "\n",
    "print(\"The total sales of all products for salesperson1 was: \" + str(salesperson1_sales[0].numpy() +\n",
    "                                                                     salesperson1_sales[1].numpy() +\n",
    "                                                                     salesperson1_sales[2].numpy()))"
   ]
  },
  {
   "cell_type": "markdown",
   "id": "d1533962",
   "metadata": {},
   "source": [
    "## Create three matrices\n",
    "\n",
    "Each matrix represents the quantity of sales of each product by each sales person at each location."
   ]
  },
  {
   "cell_type": "code",
   "execution_count": 18,
   "id": "473a6793",
   "metadata": {},
   "outputs": [
    {
     "name": "stdout",
     "output_type": "stream",
     "text": [
      "[[12515  6346 11267]\n",
      " [13165  7165 11609]]\n"
     ]
    }
   ],
   "source": [
    "locx_matrix = tf.Variable([[2706, 2799, 5102], \n",
    "                           [2386, 4089, 5932]])\n",
    "\n",
    "locy_matrix = tf.Variable([[5901, 1208, 645],\n",
    "                           [6235, 1098, 948]])\n",
    "\n",
    "locz_matrix = tf.Variable([[3908, 2339, 5520],\n",
    "                           [4544, 1978, 4729]])\n",
    "\n",
    "loc_matrix_sum = locx_matrix + locy_matrix + locz_matrix\n",
    "\n",
    "print(loc_matrix_sum.numpy())"
   ]
  },
  {
   "cell_type": "markdown",
   "id": "dbda50e3",
   "metadata": {},
   "source": [
    "## Total sales\n",
    "\n",
    "This step was not necessary, but it performs matrix addition to get a single value for a total: 62,067."
   ]
  },
  {
   "cell_type": "code",
   "execution_count": 35,
   "id": "f5a2d413",
   "metadata": {},
   "outputs": [
    {
     "name": "stdout",
     "output_type": "stream",
     "text": [
      "tf.Tensor(4729, shape=(), dtype=int32)\n"
     ]
    }
   ],
   "source": [
    "total_sales = locx_matrix[0][0] + \\\n",
    "              locy_matrix[0][0] + \\\n",
    "              locz_matrix[0][0] + \\\n",
    "              locx_matrix[0][1] + \\\n",
    "              locy_matrix[0][1] + \\\n",
    "              locz_matrix[0][1] + \\\n",
    "              locx_matrix[0][2] + \\\n",
    "              locy_matrix[0][2] + \\\n",
    "              locz_matrix[0][2] + \\\n",
    "              locx_matrix[1][0] + \\\n",
    "              locy_matrix[1][0] + \\\n",
    "              locz_matrix[1][0] + \\\n",
    "              locx_matrix[1][1] + \\\n",
    "              locy_matrix[1][1] + \\\n",
    "              locz_matrix[1][1] + \\\n",
    "              locx_matrix[1][2] + \\\n",
    "              locy_matrix[1][2] + \\\n",
    "              locz_matrix[1][2]"
   ]
  },
  {
   "cell_type": "code",
   "execution_count": 36,
   "id": "286734de",
   "metadata": {
    "scrolled": true
   },
   "outputs": [
    {
     "name": "stdout",
     "output_type": "stream",
     "text": [
      "The total sales across as products, salespeople, and locations: 62067\n"
     ]
    }
   ],
   "source": [
    "print(\"The total sales across all products, salespeople, and locations: \" + str(total_sales.numpy()))"
   ]
  },
  {
   "cell_type": "markdown",
   "id": "b77309c7",
   "metadata": {},
   "source": [
    "<h2 align=center>References</h2>\n",
    "\n",
    "Moocarme, M., So, A., & Maddalone, A. (2021). The TensorFlow workshop: A hands-on guide to building deep learning models from scratch using real-world datasets. Packt Publishing. "
   ]
  }
 ],
 "metadata": {
  "kernelspec": {
   "display_name": "tensorflow",
   "language": "python",
   "name": "tensorflow"
  },
  "language_info": {
   "codemirror_mode": {
    "name": "ipython",
    "version": 3
   },
   "file_extension": ".py",
   "mimetype": "text/x-python",
   "name": "python",
   "nbconvert_exporter": "python",
   "pygments_lexer": "ipython3",
   "version": "3.7.12"
  }
 },
 "nbformat": 4,
 "nbformat_minor": 5
}

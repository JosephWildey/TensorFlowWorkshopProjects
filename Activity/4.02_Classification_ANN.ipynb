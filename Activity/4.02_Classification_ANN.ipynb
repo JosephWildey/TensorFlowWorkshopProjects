{
 "cells": [
  {
   "cell_type": "markdown",
   "id": "f9b47853",
   "metadata": {},
   "source": [
    "# Activity 4.02"
   ]
  },
  {
   "cell_type": "markdown",
   "id": "9d542d3e",
   "metadata": {},
   "source": [
    "## Import Libraries"
   ]
  },
  {
   "cell_type": "code",
   "execution_count": 1,
   "id": "c9fd51d4",
   "metadata": {},
   "outputs": [],
   "source": [
    "import tensorflow as tf\n",
    "import pandas as pd"
   ]
  },
  {
   "cell_type": "markdown",
   "id": "285c69d4",
   "metadata": {},
   "source": [
    "## Import dataset"
   ]
  },
  {
   "cell_type": "code",
   "execution_count": 4,
   "id": "b885363c",
   "metadata": {},
   "outputs": [],
   "source": [
    "df = pd.read_csv(\"C:\\\\Users\\\\JoeWi\\\\TensorFlowWorkshopProjects\\\\Activity\\\\Data\\\\superconductivity.csv\")"
   ]
  },
  {
   "cell_type": "markdown",
   "id": "80a44cf4",
   "metadata": {},
   "source": [
    "## Preprocess data"
   ]
  },
  {
   "cell_type": "code",
   "execution_count": 5,
   "id": "ce7bdb7a",
   "metadata": {},
   "outputs": [],
   "source": [
    "df.dropna(inplace=True)"
   ]
  },
  {
   "cell_type": "code",
   "execution_count": 8,
   "id": "00caa049",
   "metadata": {},
   "outputs": [],
   "source": [
    "target = df['critical_temp'].apply(lambda x: 1 if x > 77.36 else 0)\n",
    "\n",
    "features = df.drop(['critical_temp'],\n",
    "                  axis=1)"
   ]
  },
  {
   "cell_type": "markdown",
   "id": "c8b10a6f",
   "metadata": {},
   "source": [
    "## Scale feature set"
   ]
  },
  {
   "cell_type": "code",
   "execution_count": 9,
   "id": "fcdc1d03",
   "metadata": {},
   "outputs": [],
   "source": [
    "from sklearn.preprocessing import StandardScaler\n",
    "\n",
    "scaler = StandardScaler()\n",
    "\n",
    "feature_array = scaler.fit_transform(features)\n",
    "\n",
    "features = pd.DataFrame(feature_array,\n",
    "                       columns=features.columns)"
   ]
  },
  {
   "cell_type": "markdown",
   "id": "6be0b5ce",
   "metadata": {},
   "source": [
    "## Initialize Keras Sequential model"
   ]
  },
  {
   "cell_type": "code",
   "execution_count": 14,
   "id": "87acac63",
   "metadata": {},
   "outputs": [],
   "source": [
    "model = tf.keras.Sequential()"
   ]
  },
  {
   "cell_type": "markdown",
   "id": "09a6415d",
   "metadata": {},
   "source": [
    "## Layers"
   ]
  },
  {
   "cell_type": "code",
   "execution_count": 15,
   "id": "15ba9fda",
   "metadata": {},
   "outputs": [],
   "source": [
    "model.add(tf.keras.layers.InputLayer(input_shape=(features.shape[1],), name=\"Input_layer\"))\n",
    "\n",
    "model.add(tf.keras.layers.Dense(32, name=\"Dense_Layer_1\"))\n",
    "\n",
    "model.add(tf.keras.layers.Dense(16, name=\"Dense_Layer_2\"))\n",
    "\n",
    "model.add(tf.keras.layers.Dense(8, name=\"Dense_Layer_3\"))\n",
    "\n",
    "model.add(tf.keras.layers.Dense(1, activation=\"sigmoid\", name=\"Output_layer\"))"
   ]
  },
  {
   "cell_type": "markdown",
   "id": "f48dd32f",
   "metadata": {},
   "source": [
    "## Compile model with RMSprop and Binary Cross-Entropy"
   ]
  },
  {
   "cell_type": "code",
   "execution_count": 31,
   "id": "2dabb629",
   "metadata": {},
   "outputs": [],
   "source": [
    "model.compile(tf.optimizers.RMSprop(0.0001), loss=\"binary_crossentropy\", metrics=['accuracy'])"
   ]
  },
  {
   "cell_type": "markdown",
   "id": "938daeb0",
   "metadata": {},
   "source": [
    "## Tensorboard logs"
   ]
  },
  {
   "cell_type": "code",
   "execution_count": 32,
   "id": "4fb3e192",
   "metadata": {},
   "outputs": [],
   "source": [
    "tensorboard_callback = tf.keras.callbacks.TensorBoard(log_dir=\"./logs/superconductivityClassifier\")"
   ]
  },
  {
   "cell_type": "code",
   "execution_count": 33,
   "id": "eb82277c",
   "metadata": {},
   "outputs": [
    {
     "name": "stdout",
     "output_type": "stream",
     "text": [
      "Epoch 1/50\n",
      "665/665 [==============================] - 1s 1ms/step - loss: 0.2198 - accuracy: 0.8859\n",
      "Epoch 2/50\n",
      "665/665 [==============================] - 1s 1ms/step - loss: 0.2200 - accuracy: 0.8873\n",
      "Epoch 3/50\n",
      "665/665 [==============================] - 1s 1ms/step - loss: 0.2193 - accuracy: 0.8868\n",
      "Epoch 4/50\n",
      "665/665 [==============================] - 1s 1ms/step - loss: 0.2195 - accuracy: 0.8878\n",
      "Epoch 5/50\n",
      "665/665 [==============================] - 1s 1ms/step - loss: 0.2194 - accuracy: 0.8867\n",
      "Epoch 6/50\n",
      "665/665 [==============================] - 1s 1ms/step - loss: 0.2193 - accuracy: 0.8885\n",
      "Epoch 7/50\n",
      "665/665 [==============================] - 1s 951us/step - loss: 0.2193 - accuracy: 0.8872\n",
      "Epoch 8/50\n",
      "665/665 [==============================] - 1s 1ms/step - loss: 0.2189 - accuracy: 0.8872\n",
      "Epoch 9/50\n",
      "665/665 [==============================] - 1s 1ms/step - loss: 0.2193 - accuracy: 0.8864\n",
      "Epoch 10/50\n",
      "665/665 [==============================] - 1s 942us/step - loss: 0.2183 - accuracy: 0.8869\n",
      "Epoch 11/50\n",
      "665/665 [==============================] - 1s 1ms/step - loss: 0.2190 - accuracy: 0.8876\n",
      "Epoch 12/50\n",
      "665/665 [==============================] - 1s 982us/step - loss: 0.2184 - accuracy: 0.8874\n",
      "Epoch 13/50\n",
      "665/665 [==============================] - 1s 951us/step - loss: 0.2182 - accuracy: 0.8888\n",
      "Epoch 14/50\n",
      "665/665 [==============================] - 1s 998us/step - loss: 0.2185 - accuracy: 0.8878\n",
      "Epoch 15/50\n",
      "665/665 [==============================] - 1s 965us/step - loss: 0.2181 - accuracy: 0.8890\n",
      "Epoch 16/50\n",
      "665/665 [==============================] - 1s 983us/step - loss: 0.2189 - accuracy: 0.8869\n",
      "Epoch 17/50\n",
      "665/665 [==============================] - 1s 989us/step - loss: 0.2185 - accuracy: 0.8867\n",
      "Epoch 18/50\n",
      "665/665 [==============================] - 1s 908us/step - loss: 0.2182 - accuracy: 0.8888\n",
      "Epoch 19/50\n",
      "665/665 [==============================] - 1s 1ms/step - loss: 0.2184 - accuracy: 0.8880\n",
      "Epoch 20/50\n",
      "665/665 [==============================] - 1s 1ms/step - loss: 0.2180 - accuracy: 0.8884\n",
      "Epoch 21/50\n",
      "665/665 [==============================] - 1s 1ms/step - loss: 0.2173 - accuracy: 0.8892\n",
      "Epoch 22/50\n",
      "665/665 [==============================] - 1s 1ms/step - loss: 0.2183 - accuracy: 0.8884\n",
      "Epoch 23/50\n",
      "665/665 [==============================] - 1s 956us/step - loss: 0.2180 - accuracy: 0.8882\n",
      "Epoch 24/50\n",
      "665/665 [==============================] - 1s 944us/step - loss: 0.2177 - accuracy: 0.8895\n",
      "Epoch 25/50\n",
      "665/665 [==============================] - 1s 1ms/step - loss: 0.2179 - accuracy: 0.8882\n",
      "Epoch 26/50\n",
      "665/665 [==============================] - 1s 950us/step - loss: 0.2176 - accuracy: 0.8891\n",
      "Epoch 27/50\n",
      "665/665 [==============================] - 1s 969us/step - loss: 0.2182 - accuracy: 0.8897\n",
      "Epoch 28/50\n",
      "665/665 [==============================] - 1s 1ms/step - loss: 0.2173 - accuracy: 0.8892\n",
      "Epoch 29/50\n",
      "665/665 [==============================] - 1s 949us/step - loss: 0.2180 - accuracy: 0.8875\n",
      "Epoch 30/50\n",
      "665/665 [==============================] - 1s 985us/step - loss: 0.2177 - accuracy: 0.8876\n",
      "Epoch 31/50\n",
      "665/665 [==============================] - 1s 930us/step - loss: 0.2174 - accuracy: 0.8896\n",
      "Epoch 32/50\n",
      "665/665 [==============================] - 1s 958us/step - loss: 0.2174 - accuracy: 0.8886\n",
      "Epoch 33/50\n",
      "665/665 [==============================] - 1s 936us/step - loss: 0.2175 - accuracy: 0.8890\n",
      "Epoch 34/50\n",
      "665/665 [==============================] - 1s 917us/step - loss: 0.2174 - accuracy: 0.8888\n",
      "Epoch 35/50\n",
      "665/665 [==============================] - 1s 1ms/step - loss: 0.2172 - accuracy: 0.8896\n",
      "Epoch 36/50\n",
      "665/665 [==============================] - 1s 920us/step - loss: 0.2174 - accuracy: 0.8895\n",
      "Epoch 37/50\n",
      "665/665 [==============================] - 1s 1ms/step - loss: 0.2165 - accuracy: 0.8897\n",
      "Epoch 38/50\n",
      "665/665 [==============================] - 1s 963us/step - loss: 0.2167 - accuracy: 0.8903\n",
      "Epoch 39/50\n",
      "665/665 [==============================] - 1s 911us/step - loss: 0.2170 - accuracy: 0.8899\n",
      "Epoch 40/50\n",
      "665/665 [==============================] - 1s 994us/step - loss: 0.2175 - accuracy: 0.8879\n",
      "Epoch 41/50\n",
      "665/665 [==============================] - 1s 916us/step - loss: 0.2171 - accuracy: 0.8889\n",
      "Epoch 42/50\n",
      "665/665 [==============================] - 1s 984us/step - loss: 0.2169 - accuracy: 0.8887\n",
      "Epoch 43/50\n",
      "665/665 [==============================] - 1s 944us/step - loss: 0.2168 - accuracy: 0.8892\n",
      "Epoch 44/50\n",
      "665/665 [==============================] - 1s 931us/step - loss: 0.2170 - accuracy: 0.8889\n",
      "Epoch 45/50\n",
      "665/665 [==============================] - 1s 980us/step - loss: 0.2167 - accuracy: 0.8897\n",
      "Epoch 46/50\n",
      "665/665 [==============================] - 1s 885us/step - loss: 0.2170 - accuracy: 0.8901\n",
      "Epoch 47/50\n",
      "665/665 [==============================] - 1s 985us/step - loss: 0.2169 - accuracy: 0.8891\n",
      "Epoch 48/50\n",
      "665/665 [==============================] - 1s 925us/step - loss: 0.2165 - accuracy: 0.8897\n",
      "Epoch 49/50\n",
      "665/665 [==============================] - 1s 1ms/step - loss: 0.2168 - accuracy: 0.8898\n",
      "Epoch 50/50\n",
      "665/665 [==============================] - 1s 997us/step - loss: 0.2167 - accuracy: 0.8889\n"
     ]
    },
    {
     "data": {
      "text/plain": [
       "<keras.callbacks.History at 0x1922dc07648>"
      ]
     },
     "execution_count": 33,
     "metadata": {},
     "output_type": "execute_result"
    }
   ],
   "source": [
    "model.fit(x=features.to_numpy(),\n",
    "         y=target.to_numpy(),\n",
    "         epochs=50,\n",
    "         callbacks=[tensorboard_callback],\n",
    "         validation_split=0)"
   ]
  },
  {
   "cell_type": "code",
   "execution_count": 35,
   "id": "a9949ee8",
   "metadata": {},
   "outputs": [
    {
     "name": "stdout",
     "output_type": "stream",
     "text": [
      "665/665 [==============================] - 1s 907us/step - loss: 0.2190 - accuracy: 0.8856\n",
      "loss: 0.21900728344917297\n",
      "accuracy: 0.8856229186058044\n"
     ]
    }
   ],
   "source": [
    "loss, accuracy = model.evaluate(features.to_numpy(),\n",
    "                     target.to_numpy())\n",
    "\n",
    "print(\"loss: {}\\naccuracy: {}\".format(loss, accuracy))"
   ]
  }
 ],
 "metadata": {
  "kernelspec": {
   "display_name": "tensorflow",
   "language": "python",
   "name": "tensorflow"
  },
  "language_info": {
   "codemirror_mode": {
    "name": "ipython",
    "version": 3
   },
   "file_extension": ".py",
   "mimetype": "text/x-python",
   "name": "python",
   "nbconvert_exporter": "python",
   "pygments_lexer": "ipython3",
   "version": "3.7.12"
  }
 },
 "nbformat": 4,
 "nbformat_minor": 5
}

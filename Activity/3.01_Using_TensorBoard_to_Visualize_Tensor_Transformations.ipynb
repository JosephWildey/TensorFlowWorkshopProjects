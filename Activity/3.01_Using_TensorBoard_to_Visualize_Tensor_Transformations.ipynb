{
 "cells": [
  {
   "cell_type": "markdown",
   "id": "a898c391",
   "metadata": {},
   "source": [
    "# Exercise 3.01: Using TensorBoard to Visualize Matrix Multiplication"
   ]
  },
  {
   "cell_type": "markdown",
   "id": "fa522eca",
   "metadata": {},
   "source": [
    "## Problem statement: \n",
    "\n",
    "Perform matrix multiplication on 7x7 matrices with random values and trace the computation graph and profiling information. Following that, you will view the computation graph using TensorBoard."
   ]
  },
  {
   "cell_type": "markdown",
   "id": "56fcba18",
   "metadata": {},
   "source": [
    "## Import Tensorflow\n",
    "\n",
    "Setting a random seed here is just for reproducibility. \"Random\" below is short for pseduorandom, which is much more common in technology. Psuedorandom generators require dynamic arguments, such as the current time in milliseconds, to get anywhere near producing random results. However, a static result tends to make the outcome fairly predictable."
   ]
  },
  {
   "cell_type": "code",
   "execution_count": 1,
   "id": "0118a470",
   "metadata": {},
   "outputs": [],
   "source": [
    "%load_ext tensorboard\n",
    "import tensorflow as tf\n",
    "tf.random.set_seed(42)"
   ]
  },
  {
   "cell_type": "markdown",
   "id": "e42ba58d",
   "metadata": {},
   "source": [
    "## Create a log writer \n",
    "\n",
    "Tensorboards rely on logs to create their output. The log contains relevant data of how outputs change based on input settings."
   ]
  },
  {
   "cell_type": "code",
   "execution_count": 2,
   "id": "f83d9a46",
   "metadata": {},
   "outputs": [],
   "source": [
    "logdir = 'logs/'\n",
    "writer = tf.summary.create_file_writer(logdir)"
   ]
  },
  {
   "cell_type": "markdown",
   "id": "711ff4c9",
   "metadata": {},
   "source": [
    "## Custom function to multiply two 7x7 matrices\n",
    "\n",
    "The only reason this function exists is to make tracing the steps this program goes through while executing easier to follow. The ability to multiply matrices like this is helpful because the way multiplication works in matrices is sort of similar to normal multiplication. It's really a systematic combination of multiplication and addition that can quickly get out of hand. "
   ]
  },
  {
   "cell_type": "code",
   "execution_count": 3,
   "id": "e43b0276",
   "metadata": {},
   "outputs": [],
   "source": [
    "@tf.function\n",
    "def my_matmult_func(x, y):\n",
    "    \n",
    "    return tf.matmul(x, y)"
   ]
  },
  {
   "cell_type": "markdown",
   "id": "06f81c8f",
   "metadata": {},
   "source": [
    "## Create the datasets and turn on the graph\n",
    "\n",
    "x and y are two 7x7 matrices here with random values. Summary trace will create the graph you will see at the end that tracks each step of execution."
   ]
  },
  {
   "cell_type": "code",
   "execution_count": 4,
   "id": "024929db",
   "metadata": {},
   "outputs": [
    {
     "name": "stdout",
     "output_type": "stream",
     "text": [
      "WARNING:tensorflow:From C:\\Users\\JoeWi\\anaconda3\\envs\\tensorflow\\lib\\site-packages\\tensorflow\\python\\ops\\summary_ops_v2.py:1307: start (from tensorflow.python.eager.profiler) is deprecated and will be removed after 2020-07-01.\n",
      "Instructions for updating:\n",
      "use `tf.profiler.experimental.start` instead.\n"
     ]
    }
   ],
   "source": [
    "x = tf.random.uniform((7, 7))\n",
    "\n",
    "y = tf.random.uniform((7, 7))\n",
    "\n",
    "tf.summary.trace_on(graph=True, profiler=True)"
   ]
  },
  {
   "cell_type": "markdown",
   "id": "f0c548b4",
   "metadata": {},
   "source": [
    "## Execute the multiplication and finalize the log for the tensorboard"
   ]
  },
  {
   "cell_type": "code",
   "execution_count": 5,
   "id": "4533b504",
   "metadata": {},
   "outputs": [
    {
     "name": "stdout",
     "output_type": "stream",
     "text": [
      "WARNING:tensorflow:From C:\\Users\\JoeWi\\anaconda3\\envs\\tensorflow\\lib\\site-packages\\tensorflow\\python\\ops\\summary_ops_v2.py:1358: stop (from tensorflow.python.eager.profiler) is deprecated and will be removed after 2020-07-01.\n",
      "Instructions for updating:\n",
      "use `tf.profiler.experimental.stop` instead.\n",
      "WARNING:tensorflow:From C:\\Users\\JoeWi\\anaconda3\\envs\\tensorflow\\lib\\site-packages\\tensorflow\\python\\ops\\summary_ops_v2.py:1358: save (from tensorflow.python.eager.profiler) is deprecated and will be removed after 2020-07-01.\n",
      "Instructions for updating:\n",
      "`tf.python.eager.profiler` has deprecated, use `tf.profiler` instead.\n",
      "WARNING:tensorflow:From C:\\Users\\JoeWi\\anaconda3\\envs\\tensorflow\\lib\\site-packages\\tensorflow\\python\\eager\\profiler.py:150: maybe_create_event_file (from tensorflow.python.eager.profiler) is deprecated and will be removed after 2020-07-01.\n",
      "Instructions for updating:\n",
      "`tf.python.eager.profiler` has deprecated, use `tf.profiler` instead.\n"
     ]
    }
   ],
   "source": [
    "z = my_matmult_func(x, y)\n",
    "with writer.as_default():\n",
    "    tf.summary.trace_export(name=\"my_func_trace\",\n",
    "                           step=0,\n",
    "                           profiler_outdir=logdir)"
   ]
  },
  {
   "cell_type": "markdown",
   "id": "7de7b060",
   "metadata": {},
   "source": [
    "## Execute the tensorboard within the Notebook\n",
    "\n",
    "This is nice because otherwise I would have to access a different port on my computer. Accessing different ports on your computer is like accessing different websites accross the web. If I don't run this command here, then it would be like going to Facebook to read comments on LinkedIn posts. "
   ]
  },
  {
   "cell_type": "code",
   "execution_count": 6,
   "id": "4dcf2ce5",
   "metadata": {
    "scrolled": true
   },
   "outputs": [
    {
     "data": {
      "text/html": [
       "\n",
       "      <iframe id=\"tensorboard-frame-b7a23d5da06b559a\" width=\"100%\" height=\"800\" frameborder=\"0\">\n",
       "      </iframe>\n",
       "      <script>\n",
       "        (function() {\n",
       "          const frame = document.getElementById(\"tensorboard-frame-b7a23d5da06b559a\");\n",
       "          const url = new URL(\"/\", window.location);\n",
       "          const port = 6006;\n",
       "          if (port) {\n",
       "            url.port = port;\n",
       "          }\n",
       "          frame.src = url;\n",
       "        })();\n",
       "      </script>\n",
       "    "
      ],
      "text/plain": [
       "<IPython.core.display.HTML object>"
      ]
     },
     "metadata": {},
     "output_type": "display_data"
    }
   ],
   "source": [
    "%tensorboard --logdir logs/ --host localhost"
   ]
  }
 ],
 "metadata": {
  "kernelspec": {
   "display_name": "tensorflow",
   "language": "python",
   "name": "tensorflow"
  },
  "language_info": {
   "codemirror_mode": {
    "name": "ipython",
    "version": 3
   },
   "file_extension": ".py",
   "mimetype": "text/x-python",
   "name": "python",
   "nbconvert_exporter": "python",
   "pygments_lexer": "ipython3",
   "version": "3.7.12"
  }
 },
 "nbformat": 4,
 "nbformat_minor": 5
}

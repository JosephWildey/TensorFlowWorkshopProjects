{
 "cells": [
  {
   "cell_type": "markdown",
   "id": "8527427a",
   "metadata": {},
   "source": [
    "# Tensorflow Activity 1.02"
   ]
  },
  {
   "cell_type": "markdown",
   "id": "fd321703",
   "metadata": {},
   "source": [
    "## Problem Statement:\n",
    "\n",
    "\"Simulate the grouping of 24 children for class projects (Moocarme et al., 2021).\""
   ]
  },
  {
   "cell_type": "markdown",
   "id": "d42d641c",
   "metadata": {},
   "source": [
    "## Index\n",
    "\n",
    "1. [Import Tensorflow](http://localhost:8888/notebooks/The-TensorFlow-Workshop/Activity%201.02.ipynb#Import-TensorFlow)\n",
    "2. [Group School Children with Matrix Reshaping](http://localhost:8888/notebooks/The-TensorFlow-Workshop/Activity%201.02.ipynb#Create-24-monotonically-increasing-class-ID's-for-the-school-children)\n",
    "3. [Group School Children with Matrix Transpose](http://localhost:8888/notebooks/The-TensorFlow-Workshop/Activity%201.02.ipynb#Use-transpose-to-modify-the-class_ids_pairs-into-a-2-group-of-12-matrix)\n",
    "4. [Resources](http://localhost:8888/notebooks/The-TensorFlow-Workshop/Activity%201.02.ipynb#References)"
   ]
  },
  {
   "cell_type": "markdown",
   "id": "c5282e09",
   "metadata": {},
   "source": [
    "## Import TensorFlow"
   ]
  },
  {
   "cell_type": "code",
   "execution_count": 2,
   "id": "967491ad",
   "metadata": {},
   "outputs": [],
   "source": [
    "import tensorflow as tf"
   ]
  },
  {
   "cell_type": "markdown",
   "id": "402ed155",
   "metadata": {},
   "source": [
    "## Create 24 monotonically increasing class ID's for the school children"
   ]
  },
  {
   "cell_type": "code",
   "execution_count": 5,
   "id": "19cc0f96",
   "metadata": {},
   "outputs": [
    {
     "data": {
      "text/plain": [
       "[24]"
      ]
     },
     "execution_count": 5,
     "metadata": {},
     "output_type": "execute_result"
    }
   ],
   "source": [
    "class_ids = tf.Variable([1,2,3,4,5,6,7,8,9,10,11,12,13,14,15,16,17,18,19,20,21,22,23,24], tf.int32)\n",
    "\n",
    "class_ids.shape.as_list()"
   ]
  },
  {
   "cell_type": "markdown",
   "id": "719bb85e",
   "metadata": {},
   "source": [
    "### Reshape the matrix to reflect 12 pairs of school children"
   ]
  },
  {
   "cell_type": "code",
   "execution_count": 8,
   "id": "4ecf0f04",
   "metadata": {},
   "outputs": [
    {
     "data": {
      "text/plain": [
       "[12, 2]"
      ]
     },
     "execution_count": 8,
     "metadata": {},
     "output_type": "execute_result"
    }
   ],
   "source": [
    "class_ids_pairs = tf.reshape(class_ids, shape=[12,2])\n",
    "\n",
    "class_ids_pairs.shape.as_list()"
   ]
  },
  {
   "cell_type": "markdown",
   "id": "84527cbd",
   "metadata": {},
   "source": [
    "### Reshape it into a 3x4x2 tensor\n",
    "\n",
    "The tensor will represent 3 groups of 4 pairs of children. It will also be verified."
   ]
  },
  {
   "cell_type": "code",
   "execution_count": 16,
   "id": "1bb91c60",
   "metadata": {},
   "outputs": [
    {
     "data": {
      "text/plain": [
       "[3, 4, 2]"
      ]
     },
     "execution_count": 16,
     "metadata": {},
     "output_type": "execute_result"
    }
   ],
   "source": [
    "groups_of_children = tf.reshape(class_ids_pairs, shape=[3,4,2])\n",
    "\n",
    "groups_of_children.shape.as_list()"
   ]
  },
  {
   "cell_type": "markdown",
   "id": "686d58e2",
   "metadata": {},
   "source": [
    "### Use tf.rank to verify the tensor"
   ]
  },
  {
   "cell_type": "code",
   "execution_count": 18,
   "id": "ce3e6f4b",
   "metadata": {},
   "outputs": [
    {
     "data": {
      "text/plain": [
       "3"
      ]
     },
     "execution_count": 18,
     "metadata": {},
     "output_type": "execute_result"
    }
   ],
   "source": [
    "tf.rank(groups_of_children).numpy()"
   ]
  },
  {
   "cell_type": "markdown",
   "id": "3a105b62",
   "metadata": {},
   "source": [
    "## Use transpose to modify the class_ids_pairs into a 2 group of 12 matrix"
   ]
  },
  {
   "cell_type": "code",
   "execution_count": 21,
   "id": "1f859948",
   "metadata": {},
   "outputs": [
    {
     "data": {
      "text/plain": [
       "[2, 12]"
      ]
     },
     "execution_count": 21,
     "metadata": {},
     "output_type": "execute_result"
    }
   ],
   "source": [
    "final_group = tf.transpose(class_ids_pairs)\n",
    "\n",
    "final_group.shape.as_list()"
   ]
  },
  {
   "cell_type": "markdown",
   "id": "efdb5144",
   "metadata": {},
   "source": [
    "<h2 align=center>References</h2>\n",
    "\n",
    "Moocarme, M., So, A., & Maddalone, A. (2021). The TensorFlow workshop: A hands-on guide to building deep learning models from scratch using real-world datasets. Packt Publishing. "
   ]
  }
 ],
 "metadata": {
  "kernelspec": {
   "display_name": "tensorflow",
   "language": "python",
   "name": "tensorflow"
  },
  "language_info": {
   "codemirror_mode": {
    "name": "ipython",
    "version": 3
   },
   "file_extension": ".py",
   "mimetype": "text/x-python",
   "name": "python",
   "nbconvert_exporter": "python",
   "pygments_lexer": "ipython3",
   "version": "3.7.12"
  }
 },
 "nbformat": 4,
 "nbformat_minor": 5
}

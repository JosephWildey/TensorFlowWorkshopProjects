{
 "cells": [
  {
   "cell_type": "markdown",
   "id": "6cb16721",
   "metadata": {},
   "source": [
    "# TensorFlow Exercise 1.03: Performing Tensor Addition in TensorFlow"
   ]
  },
  {
   "cell_type": "markdown",
   "id": "9ef98b41",
   "metadata": {},
   "source": [
    "## Problem Statement\n",
    "\n",
    "- Store the total number of votes cast for political party X in district A\n",
    "- Store the total number of votes cast for each political party in district A\n",
    "- Store the total number of votes cast for each political party in both districts"
   ]
  },
  {
   "cell_type": "markdown",
   "id": "08397762",
   "metadata": {},
   "source": [
    "## Index\n",
    "\n",
    "1. [Import libraries](http://localhost:8888/notebooks/The-TensorFlow-Workshop/TensorFlow%20Exercise%201.03.ipynb#Import-libraries)\n",
    "2. [Create three scaler variables](http://localhost:8888/notebooks/The-TensorFlow-Workshop/TensorFlow%20Exercise%201.03.ipynb#Create-Three-Scaler-variables)\n",
    "3. [Create and sum three matrice variables](http://localhost:8888/notebooks/The-TensorFlow-Workshop/TensorFlow%20Exercise%201.03.ipynb#Create-Three-Matrices)\n",
    "4. [Citation](http://localhost:8888/notebooks/The-TensorFlow-Workshop/TensorFlowWorkshopProjects/Exercise/TensorFlow_Exercise_1.03.ipynb#References)"
   ]
  },
  {
   "cell_type": "markdown",
   "id": "0598ed95",
   "metadata": {},
   "source": [
    "## Import libraries"
   ]
  },
  {
   "cell_type": "code",
   "execution_count": 1,
   "id": "ed7e837d",
   "metadata": {},
   "outputs": [],
   "source": [
    "import tensorflow as tf"
   ]
  },
  {
   "cell_type": "markdown",
   "id": "e8d1488d",
   "metadata": {},
   "source": [
    "## Create Three Scaler variables\n",
    "\n",
    "Then sum the variables and output their sum. It should be 18,153"
   ]
  },
  {
   "cell_type": "code",
   "execution_count": 4,
   "id": "c2155e7f",
   "metadata": {},
   "outputs": [],
   "source": [
    "int1 = tf.Variable(4113, tf.int32)\n",
    "\n",
    "int2 = tf.Variable(7511, tf.int32)\n",
    "\n",
    "int3 = tf.Variable(6529, tf.int32)\n",
    "\n",
    "int_sum = int1 + int2 + int3"
   ]
  },
  {
   "cell_type": "code",
   "execution_count": 5,
   "id": "556a2982",
   "metadata": {},
   "outputs": [
    {
     "name": "stdout",
     "output_type": "stream",
     "text": [
      "18153\n"
     ]
    }
   ],
   "source": [
    "print(int_sum.numpy())"
   ]
  },
  {
   "cell_type": "markdown",
   "id": "f06cabe5",
   "metadata": {},
   "source": [
    "## Create Three Vectors\n",
    "\n",
    "Then sum the vectors, which should return [18153 17557 18731]"
   ]
  },
  {
   "cell_type": "code",
   "execution_count": 9,
   "id": "f6c90f9e",
   "metadata": {},
   "outputs": [],
   "source": [
    "vec1 = tf.Variable([4113, 3870, 5102], tf.int32)\n",
    "\n",
    "vec2 = tf.Variable([7511, 6725, 7038], tf.int32)\n",
    "\n",
    "vec3 = tf.Variable([6529, 6962, 6591], tf.int32)\n",
    "\n",
    "vec_sum = vec1 + vec2 + vec3"
   ]
  },
  {
   "cell_type": "code",
   "execution_count": 10,
   "id": "890e326e",
   "metadata": {},
   "outputs": [
    {
     "name": "stdout",
     "output_type": "stream",
     "text": [
      "[18153 17557 18731]\n"
     ]
    }
   ],
   "source": [
    "print(vec_sum.numpy())"
   ]
  },
  {
   "cell_type": "markdown",
   "id": "b9502050",
   "metadata": {},
   "source": [
    "### Confirm results\n",
    "\n",
    "The operations should  return \n",
    "\n",
    "18153 \\\n",
    "17557 \\\n",
    "18731\n",
    "\n",
    "Which is the same as above."
   ]
  },
  {
   "cell_type": "code",
   "execution_count": 13,
   "id": "5cf80070",
   "metadata": {},
   "outputs": [
    {
     "name": "stdout",
     "output_type": "stream",
     "text": [
      "18153\n",
      "17557\n",
      "18731\n"
     ]
    }
   ],
   "source": [
    "print((vec1[0] + \n",
    "      vec2[0] +\n",
    "      vec3[0]).numpy())\n",
    "\n",
    "print((vec1[1] +\n",
    "       vec2[1] +\n",
    "       vec3[1]).numpy())\n",
    "\n",
    "print((vec1[2] +\n",
    "       vec2[2] +\n",
    "       vec3[2]).numpy())"
   ]
  },
  {
   "cell_type": "markdown",
   "id": "b5aeb8af",
   "metadata": {},
   "source": [
    "## Create Three Matrices\n",
    "\n",
    "Create three matrices to store votes cast"
   ]
  },
  {
   "cell_type": "code",
   "execution_count": 16,
   "id": "ac258a30",
   "metadata": {},
   "outputs": [],
   "source": [
    "matrix1 = tf.Variable([[4113, 3870, 5102], \n",
    "                       [3611, 951, 870]])\n",
    "\n",
    "matrix2 = tf.Variable([[7511, 6725, 7038],\n",
    "                       [5901, 1208, 645]])\n",
    "\n",
    "matrix3 = tf.Variable([[6529, 6962, 6591],\n",
    "                       [6235, 1098, 948]])"
   ]
  },
  {
   "cell_type": "markdown",
   "id": "02bdfb9e",
   "metadata": {},
   "source": [
    "### verify they all have the same dimensions\n",
    "\n",
    "This is necessary for adding matrices without transformation (though, even then they still need the same dimensions just in flipped order)."
   ]
  },
  {
   "cell_type": "code",
   "execution_count": 17,
   "id": "b585e60d",
   "metadata": {},
   "outputs": [
    {
     "data": {
      "text/plain": [
       "True"
      ]
     },
     "execution_count": 17,
     "metadata": {},
     "output_type": "execute_result"
    }
   ],
   "source": [
    "matrix1.shape == matrix2.shape == matrix3.shape"
   ]
  },
  {
   "cell_type": "code",
   "execution_count": 18,
   "id": "472d0870",
   "metadata": {},
   "outputs": [],
   "source": [
    "matrix_sum = matrix1 + matrix2 + matrix3"
   ]
  },
  {
   "cell_type": "code",
   "execution_count": 19,
   "id": "e476ebfb",
   "metadata": {},
   "outputs": [
    {
     "data": {
      "text/plain": [
       "array([[18153, 17557, 18731],\n",
       "       [15747,  3257,  2463]])"
      ]
     },
     "execution_count": 19,
     "metadata": {},
     "output_type": "execute_result"
    }
   ],
   "source": [
    "matrix_sum.numpy()"
   ]
  },
  {
   "cell_type": "markdown",
   "id": "249eb568",
   "metadata": {},
   "source": [
    "### Verify the result"
   ]
  },
  {
   "cell_type": "code",
   "execution_count": 28,
   "id": "2df187f4",
   "metadata": {},
   "outputs": [
    {
     "name": "stdout",
     "output_type": "stream",
     "text": [
      "18153\n",
      "17557\n",
      "18731\n",
      "15747\n",
      "3257\n",
      "2463\n"
     ]
    }
   ],
   "source": [
    "print((matrix1[0][0] + \n",
    "       matrix2[0][0] +\n",
    "       matrix3[0][0]).numpy())\n",
    "\n",
    "print((matrix1[0][1] +\n",
    "       matrix2[0][1] +\n",
    "       matrix3[0][1]).numpy())\n",
    "\n",
    "print((matrix1[0][2] +\n",
    "       matrix2[0][2] +\n",
    "       matrix3[0][2]).numpy())\n",
    "\n",
    "print((matrix1[1][0] + \n",
    "       matrix2[1][0] +\n",
    "       matrix3[1][0]).numpy())\n",
    "\n",
    "print((matrix1[1][1] +\n",
    "       matrix2[1][1] +\n",
    "       matrix3[1][1]).numpy())\n",
    "\n",
    "print((matrix1[1][2] +\n",
    "       matrix2[1][2] +\n",
    "       matrix3[1][2]).numpy())"
   ]
  },
  {
   "cell_type": "markdown",
   "id": "6fda7d71",
   "metadata": {},
   "source": [
    "<h2 align=center>References</h2>\n",
    "\n",
    "Moocarme, M., So, A., & Maddalone, A. (2021). The TensorFlow workshop: A hands-on guide to building deep learning models from scratch using real-world datasets. Packt Publishing. "
   ]
  }
 ],
 "metadata": {
  "kernelspec": {
   "display_name": "tensorflow",
   "language": "python",
   "name": "tensorflow"
  },
  "language_info": {
   "codemirror_mode": {
    "name": "ipython",
    "version": 3
   },
   "file_extension": ".py",
   "mimetype": "text/x-python",
   "name": "python",
   "nbconvert_exporter": "python",
   "pygments_lexer": "ipython3",
   "version": "3.7.12"
  }
 },
 "nbformat": 4,
 "nbformat_minor": 5
}

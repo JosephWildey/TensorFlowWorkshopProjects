{
 "cells": [
  {
   "cell_type": "markdown",
   "id": "3eab7390",
   "metadata": {},
   "source": [
    "# Tensorflow Exercise 2.05: \n",
    "\n",
    "Load audio data for batch processing"
   ]
  },
  {
   "cell_type": "markdown",
   "id": "bd6be638",
   "metadata": {
    "tags": []
   },
   "source": [
    "## Tensorflow and OS libraries"
   ]
  },
  {
   "cell_type": "code",
   "execution_count": 19,
   "id": "06b03681",
   "metadata": {},
   "outputs": [],
   "source": [
    "import tensorflow as tf\n",
    "import os"
   ]
  },
  {
   "cell_type": "markdown",
   "id": "c41ed4c5",
   "metadata": {},
   "source": [
    "## Create a function that will load an audio file\n",
    "\n",
    "It will use: read_file and decode_wav\n",
    "\n",
    "It will return the transpose of the resultant tensor"
   ]
  },
  {
   "cell_type": "code",
   "execution_count": 20,
   "id": "c3f04de8",
   "metadata": {},
   "outputs": [],
   "source": [
    "def load_audio(file_path, sample_rate=44100):\n",
    "    # load audio at 44.1khz sample-rate\n",
    "    audio = tf.io.read_file(file_path)\n",
    "    audio, sample_rate = tf.audio.decode_wav(audio, \n",
    "                                            desired_channels=-1,\n",
    "                                            desired_samples=sample_rate)\n",
    "    return tf.transpose(audio)"
   ]
  },
  {
   "cell_type": "markdown",
   "id": "86f26b57",
   "metadata": {},
   "source": [
    "## Load in the paths to the audio data as a list using os.list_dir"
   ]
  },
  {
   "cell_type": "code",
   "execution_count": 21,
   "id": "5946d7e2",
   "metadata": {},
   "outputs": [],
   "source": [
    "prefix = \"../Datasets/data_speech_commands_v0.02/zero/\"\n",
    "\n",
    "paths = [os.path.join(prefix, paths) for paths in os.listdir(prefix)]"
   ]
  },
  {
   "cell_type": "markdown",
   "id": "e0fc8eb2",
   "metadata": {},
   "source": [
    "## Create a plot of the audio data"
   ]
  },
  {
   "cell_type": "code",
   "execution_count": 22,
   "id": "c87a11e6",
   "metadata": {},
   "outputs": [
    {
     "data": {
      "text/plain": [
       "Text(0, 0.5, 'Value')"
      ]
     },
     "execution_count": 22,
     "metadata": {},
     "output_type": "execute_result"
    },
    {
     "data": {
      "image/png": "[encoded data removed]",
      "text/plain": [
       "<Figure size 432x288 with 1 Axes>"
      ]
     },
     "metadata": {
      "needs_background": "light"
     },
     "output_type": "display_data"
    }
   ],
   "source": [
    "import matplotlib.pyplot as plt\n",
    "\n",
    "audio = load_audio(paths[0])\n",
    "\n",
    "plt.plot(audio.numpy().T)\n",
    "\n",
    "plt.xlabel('Sample')\n",
    "\n",
    "plt.ylabel('Value')"
   ]
  },
  {
   "cell_type": "markdown",
   "id": "4eb40b5e",
   "metadata": {},
   "source": [
    "## Generate the MFCCs (Mel Frequency Cepstral Coefficients) from the audio data.\n",
    "\n",
    "1. Apply the short-time Fourier Transform (STFT) passing in the audio signal as an argument, frame length set to 1024, and the frame step set as 256, and the FFT length as the fourth parameter.\n",
    "2. Take the absolute value of the result to compute the spectrograms. \\\n",
    "    a. This number is given by the length along the last axis of the STFT\n",
    "3. Define the upper and lower bounds of the mel weight matrix as 80 and 7600 respectively and the number of mel bins as 80.\n",
    "4. Compute the mel weight matrix using linear_to_mel_weight_matrix from TensorFlow's signal package.\n",
    "5. Compute the mel spectrograms via tensor construction using tensordot along axis 1 of the spectrograms with the mel weight matrix.\n",
    "6. Take the log of the mel spectrograms before finally computing the MFCC's using TensorFlow's mfccs_from_log_mel_spectrograms\n",
    "7. Return the MFCCs"
   ]
  },
  {
   "cell_type": "code",
   "execution_count": 27,
   "id": "4a1feae8",
   "metadata": {},
   "outputs": [],
   "source": [
    "def apply_mfccs(audio, sample_rate=44100, num_mfccs=13):\n",
    "    stfts = tf.signal.stft(audio, frame_length=1024,\n",
    "                          frame_step=256,\n",
    "                          fft_length=1024)\n",
    "    spectrograms = tf.abs(stfts)\n",
    "    spectrogram_bins = stfts.shape[-1]\n",
    "    \n",
    "    lower_edge_hertz, upper_edge_hertz, mel_bins = 80.0, 7600.0, 80\n",
    "    \n",
    "    linear_to_mel_weight_matrix = tf.signal.linear_to_mel_weight_matrix(mel_bins,\n",
    "                                                                       spectrogram_bins,\n",
    "                                                                       sample_rate,\n",
    "                                                                       lower_edge_hertz,\n",
    "                                                                       upper_edge_hertz)\n",
    "    \n",
    "    mel_spectrograms = tf.tensordot(spectrograms,\n",
    "                                   linear_to_mel_weight_matrix,\n",
    "                                   1)\n",
    "    \n",
    "    mel_spectrograms.set_shape(spectrograms.shape[:-1].concatenate(linear_to_mel_weight_matrix.shape[-1:]))\n",
    "    \n",
    "    log_mel_spectrograms = tf.math.log(mel_spectrograms + 1e-6)\n",
    "    \n",
    "    # Compute MFCCs from log_mel_spectrograms\n",
    "    \n",
    "    mfccs = tf.signal.mfccs_from_log_mel_spectrograms(log_mel_spectrograms)[..., :num_mfccs]\n",
    "    \n",
    "    return mfccs"
   ]
  },
  {
   "cell_type": "markdown",
   "id": "75f645e7",
   "metadata": {},
   "source": [
    "## Apply the function above"
   ]
  },
  {
   "cell_type": "code",
   "execution_count": 28,
   "id": "06935721",
   "metadata": {},
   "outputs": [
    {
     "data": {
      "image/png": "[encoded data removed]",
      "text/plain": [
       "<Figure size 432x288 with 1 Axes>"
      ]
     },
     "metadata": {
      "needs_background": "light"
     },
     "output_type": "display_data"
    }
   ],
   "source": [
    "mfcc = apply_mfccs(audio)\n",
    "\n",
    "plt.pcolor(mfcc.numpy()[0], cmap='Greys_r')\n",
    "\n",
    "plt.xlabel('MFCC log coefficient')\n",
    "\n",
    "plt.ylabel('Sample Value')\n",
    "\n",
    "plt.savefig(\"Figure2.17.png\", dpi=200)"
   ]
  },
  {
   "cell_type": "markdown",
   "id": "527ea5b7-dc77-41c1-a609-f7af46e96f0c",
   "metadata": {},
   "source": [
    "## Load Autotune \n",
    "\n",
    "This will allow us to use all of the available threads of the CPU. \\\n",
    "Create a function that will take a dataset object, shuffle it, and load the audio using two previously defined functions"
   ]
  },
  {
   "cell_type": "code",
   "execution_count": 34,
   "id": "9db2a42a-d5f1-47e0-9a1d-83459b788b09",
   "metadata": {},
   "outputs": [],
   "source": [
    "AUTOTUNE = tf.data.experimental.AUTOTUNE\n",
    "\n",
    "def prep_ds(ds, shuffle_buffer_size=1024, batch_size=64):\n",
    "    # Randomly shuffle (file_path, label) dataset\n",
    "    ds = ds.shuffle(buffer_size=shuffle_buffer_size)\n",
    "    # load and decode audio from file paths\n",
    "    ds = ds.map(load_audio, num_parallel_calls=AUTOTUNE)\n",
    "    # generate MFCCs from the audio data\n",
    "    ds = ds.map(apply_mfccs)\n",
    "    # Repeat dataset forever\n",
    "    ds = ds.repeat()\n",
    "    # Prepare batches\n",
    "    ds = ds.batch(batch_size)\n",
    "    # Prefetch\n",
    "    ds = ds.prefetch(buffer_size=AUTOTUNE)\n",
    "    \n",
    "    return ds"
   ]
  },
  {
   "cell_type": "code",
   "execution_count": 35,
   "id": "86261f13-f92e-4f36-acfb-d1f5199a1855",
   "metadata": {},
   "outputs": [],
   "source": [
    "ds = tf.data.Dataset.from_tensor_slices(paths)\n",
    "\n",
    "train_ds = prep_ds(ds)"
   ]
  },
  {
   "cell_type": "markdown",
   "id": "d94e3e6a-2b7c-4483-b3ae-4dba538cca93",
   "metadata": {},
   "source": [
    "## Take a single batch and print it out"
   ]
  },
  {
   "cell_type": "code",
   "execution_count": 36,
   "id": "b195f3e9-d3b7-43ae-964b-11af3c15f1bc",
   "metadata": {},
   "outputs": [
    {
     "name": "stdout",
     "output_type": "stream",
     "text": [
      "tf.Tensor(\n",
      "[[[[-3.8206329e+01  6.2723041e-01  1.3823465e+00 ... -6.2591201e-01\n",
      "    -8.0306756e-01  1.2597604e-01]\n",
      "   [-3.9315723e+01 -5.5170771e-02  8.0528980e-01 ... -1.2248192e+00\n",
      "    -1.4842975e+00 -2.8563195e-01]\n",
      "   [-3.9614750e+01  3.7789813e-01  2.0292823e+00 ... -3.9295229e-01\n",
      "    -1.1576303e+00  9.0283662e-02]\n",
      "   ...\n",
      "   [-1.7475427e+02 -7.8259567e-05  8.2965726e-06 ...  8.8049037e-06\n",
      "     6.4839332e-06 -2.2959596e-06]\n",
      "   [-1.7475427e+02 -7.8259567e-05  8.2965726e-06 ...  8.8049037e-06\n",
      "     6.4839332e-06 -2.2959596e-06]\n",
      "   [-1.7475427e+02 -7.8259567e-05  8.2965726e-06 ...  8.8049037e-06\n",
      "     6.4839332e-06 -2.2959596e-06]]]\n",
      "\n",
      "\n",
      " [[[-3.1519741e+01 -4.9461231e+00 -1.1290560e+00 ... -1.7629497e+00\n",
      "     7.6714176e-01 -1.9717500e-01]\n",
      "   [-3.2501694e+01 -7.7198653e+00 -1.7571888e+00 ... -1.4427170e+00\n",
      "     2.5064406e+00 -2.9546016e-01]\n",
      "   [-3.0534563e+01 -8.0052347e+00 -1.5525652e+00 ... -4.3772566e-01\n",
      "     2.5142338e+00 -1.6482546e+00]\n",
      "   ...\n",
      "   [-1.7475427e+02 -7.8259567e-05  8.2965726e-06 ...  8.8049037e-06\n",
      "     6.4839332e-06 -2.2959596e-06]\n",
      "   [-1.7475427e+02 -7.8259567e-05  8.2965726e-06 ...  8.8049037e-06\n",
      "     6.4839332e-06 -2.2959596e-06]\n",
      "   [-1.7475427e+02 -7.8259567e-05  8.2965726e-06 ...  8.8049037e-06\n",
      "     6.4839332e-06 -2.2959596e-06]]]\n",
      "\n",
      "\n",
      " [[[-2.7991774e+01 -5.0788875e+00  1.0943552e+00 ... -1.0124339e+00\n",
      "     1.7652589e-01 -9.9768978e-01]\n",
      "   [-2.8294037e+01 -6.0106544e+00  8.0204600e-01 ...  3.9306264e-02\n",
      "    -1.3043094e+00 -1.1092708e+00]\n",
      "   [-2.8032484e+01 -5.9406319e+00  2.7827290e-01 ...  5.6897052e-02\n",
      "    -6.3690907e-01 -6.2278235e-01]\n",
      "   ...\n",
      "   [-1.7475427e+02 -7.8259567e-05  8.2965726e-06 ...  8.8049037e-06\n",
      "     6.4839332e-06 -2.2959596e-06]\n",
      "   [-1.7475427e+02 -7.8259567e-05  8.2965726e-06 ...  8.8049037e-06\n",
      "     6.4839332e-06 -2.2959596e-06]\n",
      "   [-1.7475427e+02 -7.8259567e-05  8.2965726e-06 ...  8.8049037e-06\n",
      "     6.4839332e-06 -2.2959596e-06]]]\n",
      "\n",
      "\n",
      " ...\n",
      "\n",
      "\n",
      " [[[-1.7382549e+01  3.5409082e-02  1.8725064e+00 ...  5.5948120e-01\n",
      "    -7.6866698e-01 -3.8460139e-02]\n",
      "   [-1.7975073e+01  2.5481763e-01  2.0861185e+00 ...  9.4494778e-01\n",
      "     1.4258456e+00 -5.8086883e-02]\n",
      "   [-1.7448511e+01  9.6228039e-01  2.4088898e+00 ...  2.3324060e-01\n",
      "     8.2788521e-01 -1.1969180e+00]\n",
      "   ...\n",
      "   [-1.7475427e+02 -7.8259567e-05  8.2965726e-06 ...  8.8049037e-06\n",
      "     6.4839332e-06 -2.2959596e-06]\n",
      "   [-1.7475427e+02 -7.8259567e-05  8.2965726e-06 ...  8.8049037e-06\n",
      "     6.4839332e-06 -2.2959596e-06]\n",
      "   [-1.7475427e+02 -7.8259567e-05  8.2965726e-06 ...  8.8049037e-06\n",
      "     6.4839332e-06 -2.2959596e-06]]]\n",
      "\n",
      "\n",
      " [[[-8.6223907e+01 -4.0447316e+00 -1.2830243e+00 ... -7.0279646e-01\n",
      "     2.4062450e-01 -4.0763724e-01]\n",
      "   [-8.4969040e+01 -3.9097884e+00 -1.3470432e+00 ... -8.7949675e-01\n",
      "     4.8629862e-01 -1.9079577e-02]\n",
      "   [-7.7958794e+01 -5.1936264e+00 -3.3967309e+00 ...  6.1543122e-02\n",
      "     1.4404583e+00  2.3807339e-02]\n",
      "   ...\n",
      "   [-1.7475427e+02 -7.8259567e-05  8.2965726e-06 ...  8.8049037e-06\n",
      "     6.4839332e-06 -2.2959596e-06]\n",
      "   [-1.7475427e+02 -7.8259567e-05  8.2965726e-06 ...  8.8049037e-06\n",
      "     6.4839332e-06 -2.2959596e-06]\n",
      "   [-1.7475427e+02 -7.8259567e-05  8.2965726e-06 ...  8.8049037e-06\n",
      "     6.4839332e-06 -2.2959596e-06]]]\n",
      "\n",
      "\n",
      " [[[-6.0380329e+01 -2.8714180e+00 -3.7734308e+00 ... -8.9237756e-01\n",
      "    -1.5008689e+00 -1.9033102e+00]\n",
      "   [-6.0655792e+01 -2.9347084e+00 -3.8137882e+00 ... -7.2495759e-01\n",
      "    -9.1373736e-01 -9.7714400e-01]\n",
      "   [-5.7762280e+01 -3.3208182e-01  2.5185850e-02 ... -3.6616713e-02\n",
      "    -9.5950603e-01 -1.3224351e+00]\n",
      "   ...\n",
      "   [-1.7475427e+02 -7.8259567e-05  8.2965726e-06 ...  8.8049037e-06\n",
      "     6.4839332e-06 -2.2959596e-06]\n",
      "   [-1.7475427e+02 -7.8259567e-05  8.2965726e-06 ...  8.8049037e-06\n",
      "     6.4839332e-06 -2.2959596e-06]\n",
      "   [-1.7475427e+02 -7.8259567e-05  8.2965726e-06 ...  8.8049037e-06\n",
      "     6.4839332e-06 -2.2959596e-06]]]], shape=(64, 1, 169, 13), dtype=float32)\n"
     ]
    }
   ],
   "source": [
    "for x in train_ds.take(1):\n",
    "    print(x)"
   ]
  },
  {
   "cell_type": "code",
   "execution_count": null,
   "id": "b0a1eb4e-2f2c-4833-a9d1-77ecb1ec0b3b",
   "metadata": {},
   "outputs": [],
   "source": []
  }
 ],
 "metadata": {
  "kernelspec": {
   "display_name": "tensorflow",
   "language": "python",
   "name": "tensorflow"
  },
  "language_info": {
   "codemirror_mode": {
    "name": "ipython",
    "version": 3
   },
   "file_extension": ".py",
   "mimetype": "text/x-python",
   "name": "python",
   "nbconvert_exporter": "python",
   "pygments_lexer": "ipython3",
   "version": "3.7.12"
  }
 },
 "nbformat": 4,
 "nbformat_minor": 5
}

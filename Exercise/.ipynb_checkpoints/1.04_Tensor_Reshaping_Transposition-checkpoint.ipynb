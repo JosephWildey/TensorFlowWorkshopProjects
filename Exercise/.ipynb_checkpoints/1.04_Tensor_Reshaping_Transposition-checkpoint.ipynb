{
 "cells": [
  {
   "cell_type": "markdown",
   "id": "54852ad5",
   "metadata": {},
   "source": [
    "# Exercise 1.04: Performing Tensor Reshaping and Transposition in TensorFlow"
   ]
  },
  {
   "cell_type": "markdown",
   "id": "4faca48d",
   "metadata": {},
   "source": [
    "## Problem statement:\n",
    "\n",
    "Reshape and transpose tensors using TensorFlow"
   ]
  },
  {
   "cell_type": "markdown",
   "id": "0c0aa99f",
   "metadata": {},
   "source": [
    "## Index\n",
    "\n",
    "1. [Import Tensorflow and modify matrix](http://localhost:8888/notebooks/The-TensorFlow-Workshop/TensorFlow%20Exercise%201.04.ipynb#Import-tensorflor,-create-a-matrix,-and-verify-its-initial-shape)\n",
    "2. [Transpose Matrix](http://localhost:8888/notebooks/The-TensorFlow-Workshop/TensorFlow%20Exercise%201.04.ipynb#Transpose-the-Matrix-from-a-2x4-matrix-into-a-4x2-matrix)\n",
    "3. [Citation](http://localhost:8888/notebooks/The-TensorFlow-Workshop/TensorFlow%20Exercise%201.04.ipynb#References)"
   ]
  },
  {
   "cell_type": "markdown",
   "id": "3f792094",
   "metadata": {},
   "source": [
    "## Import tensorflor, create a matrix, and verify its initial shape"
   ]
  },
  {
   "cell_type": "code",
   "execution_count": 3,
   "id": "e70ca933",
   "metadata": {},
   "outputs": [
    {
     "data": {
      "text/plain": [
       "[2, 4]"
      ]
     },
     "execution_count": 3,
     "metadata": {},
     "output_type": "execute_result"
    }
   ],
   "source": [
    "import tensorflow as tf\n",
    "\n",
    "matrix1 = tf.Variable([[1,2,3,4], [5,6,7,8]])\n",
    "\n",
    "matrix1.shape.as_list()"
   ]
  },
  {
   "cell_type": "markdown",
   "id": "f3aa5bd9",
   "metadata": {},
   "source": [
    "### Use the reshape function to change the matrix's shape"
   ]
  },
  {
   "cell_type": "code",
   "execution_count": 4,
   "id": "e313fcc0",
   "metadata": {},
   "outputs": [
    {
     "data": {
      "text/plain": [
       "<tf.Tensor: shape=(4, 2), dtype=int32, numpy=\n",
       "array([[1, 2],\n",
       "       [3, 4],\n",
       "       [5, 6],\n",
       "       [7, 8]])>"
      ]
     },
     "execution_count": 4,
     "metadata": {},
     "output_type": "execute_result"
    }
   ],
   "source": [
    "reshape1 = tf.reshape(matrix1, shape=[4,2])\n",
    "\n",
    "reshape1"
   ]
  },
  {
   "cell_type": "markdown",
   "id": "d357c716",
   "metadata": {},
   "source": [
    "### Verify the result of reshape"
   ]
  },
  {
   "cell_type": "code",
   "execution_count": 5,
   "id": "6f4f65a2",
   "metadata": {},
   "outputs": [
    {
     "data": {
      "text/plain": [
       "[4, 2]"
      ]
     },
     "execution_count": 5,
     "metadata": {},
     "output_type": "execute_result"
    }
   ],
   "source": [
    "reshape1.shape.as_list()"
   ]
  },
  {
   "cell_type": "markdown",
   "id": "7278cb6c",
   "metadata": {},
   "source": [
    "### Convert the matrix into a matrix with 1 row and 8 columns"
   ]
  },
  {
   "cell_type": "code",
   "execution_count": 6,
   "id": "850fcff3",
   "metadata": {},
   "outputs": [
    {
     "data": {
      "text/plain": [
       "<tf.Tensor: shape=(1, 8), dtype=int32, numpy=array([[1, 2, 3, 4, 5, 6, 7, 8]])>"
      ]
     },
     "execution_count": 6,
     "metadata": {},
     "output_type": "execute_result"
    }
   ],
   "source": [
    "reshape2 = tf.reshape(matrix1, shape=[1,8])\n",
    "\n",
    "reshape2"
   ]
  },
  {
   "cell_type": "markdown",
   "id": "3b7b168c",
   "metadata": {},
   "source": [
    "### Verify the new shape of the matrix"
   ]
  },
  {
   "cell_type": "code",
   "execution_count": 7,
   "id": "6f83edf6",
   "metadata": {},
   "outputs": [
    {
     "data": {
      "text/plain": [
       "[1, 8]"
      ]
     },
     "execution_count": 7,
     "metadata": {},
     "output_type": "execute_result"
    }
   ],
   "source": [
    "reshape2.shape.as_list()"
   ]
  },
  {
   "cell_type": "markdown",
   "id": "18a351b2",
   "metadata": {},
   "source": [
    "### Convert the matrix into a matrix with 8 rows and 1 column"
   ]
  },
  {
   "cell_type": "code",
   "execution_count": 10,
   "id": "1f871aec",
   "metadata": {},
   "outputs": [
    {
     "data": {
      "text/plain": [
       "<tf.Tensor: shape=(8, 1), dtype=int32, numpy=\n",
       "array([[1],\n",
       "       [2],\n",
       "       [3],\n",
       "       [4],\n",
       "       [5],\n",
       "       [6],\n",
       "       [7],\n",
       "       [8]])>"
      ]
     },
     "execution_count": 10,
     "metadata": {},
     "output_type": "execute_result"
    }
   ],
   "source": [
    "reshape3 = tf.reshape(matrix1, shape=[8,1])\n",
    "\n",
    "reshape3"
   ]
  },
  {
   "cell_type": "markdown",
   "id": "d0c9d265",
   "metadata": {},
   "source": [
    "### Verify the new shape"
   ]
  },
  {
   "cell_type": "code",
   "execution_count": 12,
   "id": "2a0b2d30",
   "metadata": {},
   "outputs": [
    {
     "data": {
      "text/plain": [
       "[8, 1]"
      ]
     },
     "execution_count": 12,
     "metadata": {},
     "output_type": "execute_result"
    }
   ],
   "source": [
    "reshape3.shape.as_list()"
   ]
  },
  {
   "cell_type": "markdown",
   "id": "6327df39",
   "metadata": {},
   "source": [
    "### Turn the matrix into a 2x2x2 tensor with reshape"
   ]
  },
  {
   "cell_type": "code",
   "execution_count": 13,
   "id": "0805e84c",
   "metadata": {},
   "outputs": [
    {
     "data": {
      "text/plain": [
       "<tf.Tensor: shape=(2, 2, 2), dtype=int32, numpy=\n",
       "array([[[1, 2],\n",
       "        [3, 4]],\n",
       "\n",
       "       [[5, 6],\n",
       "        [7, 8]]])>"
      ]
     },
     "execution_count": 13,
     "metadata": {},
     "output_type": "execute_result"
    }
   ],
   "source": [
    "reshape4 = tf.reshape(matrix1, shape=[2,2,2])\n",
    "\n",
    "reshape4"
   ]
  },
  {
   "cell_type": "markdown",
   "id": "703be972",
   "metadata": {},
   "source": [
    "### Verify the new shape"
   ]
  },
  {
   "cell_type": "code",
   "execution_count": 14,
   "id": "9cf36ddf",
   "metadata": {},
   "outputs": [
    {
     "data": {
      "text/plain": [
       "[2, 2, 2]"
      ]
     },
     "execution_count": 14,
     "metadata": {},
     "output_type": "execute_result"
    }
   ],
   "source": [
    "reshape4.shape.as_list()"
   ]
  },
  {
   "cell_type": "markdown",
   "id": "9b468fa6",
   "metadata": {},
   "source": [
    "### Verify the rank of the new tensor"
   ]
  },
  {
   "cell_type": "code",
   "execution_count": 15,
   "id": "eb08afce",
   "metadata": {},
   "outputs": [
    {
     "data": {
      "text/plain": [
       "3"
      ]
     },
     "execution_count": 15,
     "metadata": {},
     "output_type": "execute_result"
    }
   ],
   "source": [
    "tf.rank(reshape4).numpy()"
   ]
  },
  {
   "cell_type": "markdown",
   "id": "55f126a9",
   "metadata": {},
   "source": [
    "## Transpose the Matrix from a 2x4 matrix into a 4x2 matrix"
   ]
  },
  {
   "cell_type": "code",
   "execution_count": 16,
   "id": "76bc45fc",
   "metadata": {},
   "outputs": [
    {
     "data": {
      "text/plain": [
       "<tf.Tensor: shape=(4, 2), dtype=int32, numpy=\n",
       "array([[1, 5],\n",
       "       [2, 6],\n",
       "       [3, 7],\n",
       "       [4, 8]])>"
      ]
     },
     "execution_count": 16,
     "metadata": {},
     "output_type": "execute_result"
    }
   ],
   "source": [
    "transpose1 = tf.transpose(matrix1)\n",
    "\n",
    "transpose1"
   ]
  },
  {
   "cell_type": "markdown",
   "id": "a19127c3",
   "metadata": {},
   "source": [
    "### Verify this is not the same matrix that was created with reshape"
   ]
  },
  {
   "cell_type": "code",
   "execution_count": 17,
   "id": "ea681757",
   "metadata": {},
   "outputs": [
    {
     "data": {
      "text/plain": [
       "<tf.Tensor: shape=(4, 2), dtype=bool, numpy=\n",
       "array([[ True, False],\n",
       "       [False, False],\n",
       "       [False, False],\n",
       "       [False,  True]])>"
      ]
     },
     "execution_count": 17,
     "metadata": {},
     "output_type": "execute_result"
    }
   ],
   "source": [
    "transpose1 == reshape1"
   ]
  },
  {
   "cell_type": "markdown",
   "id": "c8ab529e",
   "metadata": {},
   "source": [
    "### Transpose the 2x2x2 matrix"
   ]
  },
  {
   "cell_type": "code",
   "execution_count": 18,
   "id": "da11a94f",
   "metadata": {},
   "outputs": [
    {
     "data": {
      "text/plain": [
       "<tf.Tensor: shape=(2, 2, 2), dtype=int32, numpy=\n",
       "array([[[1, 5],\n",
       "        [3, 7]],\n",
       "\n",
       "       [[2, 6],\n",
       "        [4, 8]]])>"
      ]
     },
     "execution_count": 18,
     "metadata": {},
     "output_type": "execute_result"
    }
   ],
   "source": [
    "transpose2 = tf.transpose(reshape4)\n",
    "\n",
    "transpose2"
   ]
  },
  {
   "cell_type": "markdown",
   "id": "fe5aa2bf",
   "metadata": {},
   "source": [
    "<h2 align=center>References</h2>\n",
    "\n",
    "Moocarme, M., So, A., & Maddalone, A. (2021). The TensorFlow workshop: A hands-on guide to building deep learning models from scratch using real-world datasets. Packt Publishing. "
   ]
  }
 ],
 "metadata": {
  "kernelspec": {
   "display_name": "tensorflow",
   "language": "python",
   "name": "tensorflow"
  },
  "language_info": {
   "codemirror_mode": {
    "name": "ipython",
    "version": 3
   },
   "file_extension": ".py",
   "mimetype": "text/x-python",
   "name": "python",
   "nbconvert_exporter": "python",
   "pygments_lexer": "ipython3",
   "version": "3.7.12"
  }
 },
 "nbformat": 4,
 "nbformat_minor": 5
}

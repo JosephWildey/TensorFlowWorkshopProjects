{
 "cells": [
  {
   "cell_type": "markdown",
   "id": "e797fa59",
   "metadata": {},
   "source": [
    "# Activity 3.01: Using TensorBoard to Visualize Tensor Transformations"
   ]
  },
  {
   "cell_type": "markdown",
   "id": "2608cd1c",
   "metadata": {},
   "source": [
    "## Import tensorflow and set random seed to 42"
   ]
  },
  {
   "cell_type": "code",
   "execution_count": 1,
   "id": "8c23195d",
   "metadata": {},
   "outputs": [],
   "source": [
    "%load_ext tensorboard\n",
    "import tensorflow as tf\n",
    "tf.random.set_seed(42)"
   ]
  },
  {
   "cell_type": "markdown",
   "id": "4f53d0a8",
   "metadata": {},
   "source": [
    "## Set a log directory and initialize a file writer object"
   ]
  },
  {
   "cell_type": "code",
   "execution_count": 2,
   "id": "7f75d5a4",
   "metadata": {},
   "outputs": [],
   "source": [
    "logdir = 'logs/'\n",
    "writer = tf.summary.create_file_writer(logdir)"
   ]
  },
  {
   "cell_type": "markdown",
   "id": "28162e19",
   "metadata": {},
   "source": [
    "## Create tensorflow function to multiply two tensors\n",
    "\n",
    "It will also add 1 to every element in the resulting matrix, and apply a sigmoid function to each value of the tensor.\n",
    "\n",
    "Tensors are special objects that can behave like scalars or matrices, but with added dimensions as required in the case of matrices. Basically"
   ]
  },
  {
   "cell_type": "code",
   "execution_count": 3,
   "id": "60c471d2",
   "metadata": {},
   "outputs": [],
   "source": [
    "@tf.function\n",
    "def my_func(x, y):\n",
    "    \n",
    "    result1 = tf.matmul(x, y)\n",
    "    result2 = result1 + tf.ones_like(result1)\n",
    "    result3 = tf.keras.activations.sigmoid(result2)\n",
    "    \n",
    "    return result3"
   ]
  },
  {
   "cell_type": "markdown",
   "id": "34c0481e",
   "metadata": {},
   "source": [
    "## Create the two 5x5x5 tensors and turn on the summary graph"
   ]
  },
  {
   "cell_type": "code",
   "execution_count": 4,
   "id": "280319eb",
   "metadata": {},
   "outputs": [
    {
     "name": "stdout",
     "output_type": "stream",
     "text": [
      "WARNING:tensorflow:From C:\\Users\\JoeWi\\anaconda3\\envs\\tensorflow\\lib\\site-packages\\tensorflow\\python\\ops\\summary_ops_v2.py:1307: start (from tensorflow.python.eager.profiler) is deprecated and will be removed after 2020-07-01.\n",
      "Instructions for updating:\n",
      "use `tf.profiler.experimental.start` instead.\n"
     ]
    }
   ],
   "source": [
    "x = tf.random.uniform((5, 5, 5))\n",
    "y = tf.random.uniform((5, 5, 5))\n",
    "\n",
    "tf.summary.trace_on(graph=True, profiler=True)"
   ]
  },
  {
   "cell_type": "markdown",
   "id": "72bc4a1c",
   "metadata": {},
   "source": [
    "## Invoke the tensor multiplication function and output the graph"
   ]
  },
  {
   "cell_type": "code",
   "execution_count": 5,
   "id": "295d5733",
   "metadata": {},
   "outputs": [
    {
     "name": "stdout",
     "output_type": "stream",
     "text": [
      "WARNING:tensorflow:From C:\\Users\\JoeWi\\anaconda3\\envs\\tensorflow\\lib\\site-packages\\tensorflow\\python\\ops\\summary_ops_v2.py:1358: stop (from tensorflow.python.eager.profiler) is deprecated and will be removed after 2020-07-01.\n",
      "Instructions for updating:\n",
      "use `tf.profiler.experimental.stop` instead.\n",
      "WARNING:tensorflow:From C:\\Users\\JoeWi\\anaconda3\\envs\\tensorflow\\lib\\site-packages\\tensorflow\\python\\ops\\summary_ops_v2.py:1358: save (from tensorflow.python.eager.profiler) is deprecated and will be removed after 2020-07-01.\n",
      "Instructions for updating:\n",
      "`tf.python.eager.profiler` has deprecated, use `tf.profiler` instead.\n",
      "WARNING:tensorflow:From C:\\Users\\JoeWi\\anaconda3\\envs\\tensorflow\\lib\\site-packages\\tensorflow\\python\\eager\\profiler.py:150: maybe_create_event_file (from tensorflow.python.eager.profiler) is deprecated and will be removed after 2020-07-01.\n",
      "Instructions for updating:\n",
      "`tf.python.eager.profiler` has deprecated, use `tf.profiler` instead.\n"
     ]
    }
   ],
   "source": [
    "z = my_func(x, y)\n",
    "\n",
    "with writer.as_default():\n",
    "    tf.summary.trace_export(name='my_func_trace',\n",
    "                           step=0,\n",
    "                           profiler_outdir=logdir)"
   ]
  },
  {
   "cell_type": "markdown",
   "id": "8f2ef392",
   "metadata": {},
   "source": [
    "## Run the Tensorboard within the jupyter notebook"
   ]
  },
  {
   "cell_type": "code",
   "execution_count": 6,
   "id": "f80fed6e",
   "metadata": {},
   "outputs": [
    {
     "data": {
      "text/html": [
       "\n",
       "      <iframe id=\"tensorboard-frame-583fb344071be6d0\" width=\"100%\" height=\"800\" frameborder=\"0\">\n",
       "      </iframe>\n",
       "      <script>\n",
       "        (function() {\n",
       "          const frame = document.getElementById(\"tensorboard-frame-583fb344071be6d0\");\n",
       "          const url = new URL(\"/\", window.location);\n",
       "          const port = 6006;\n",
       "          if (port) {\n",
       "            url.port = port;\n",
       "          }\n",
       "          frame.src = url;\n",
       "        })();\n",
       "      </script>\n",
       "    "
      ],
      "text/plain": [
       "<IPython.core.display.HTML object>"
      ]
     },
     "metadata": {},
     "output_type": "display_data"
    }
   ],
   "source": [
    "%tensorboard --logdir logs/ --host localhost"
   ]
  }
 ],
 "metadata": {
  "kernelspec": {
   "display_name": "tensorflow",
   "language": "python",
   "name": "tensorflow"
  },
  "language_info": {
   "codemirror_mode": {
    "name": "ipython",
    "version": 3
   },
   "file_extension": ".py",
   "mimetype": "text/x-python",
   "name": "python",
   "nbconvert_exporter": "python",
   "pygments_lexer": "ipython3",
   "version": "3.7.12"
  }
 },
 "nbformat": 4,
 "nbformat_minor": 5
}

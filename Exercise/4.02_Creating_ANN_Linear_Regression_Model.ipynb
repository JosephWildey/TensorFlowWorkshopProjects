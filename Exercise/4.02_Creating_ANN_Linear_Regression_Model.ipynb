{
 "cells": [
  {
   "cell_type": "markdown",
   "id": "71e0e979",
   "metadata": {},
   "source": [
    "# 4.02: Creating a Linear Regression Model as an ANN"
   ]
  },
  {
   "cell_type": "markdown",
   "id": "477e4567",
   "metadata": {},
   "source": [
    "## Import Tensorflow and Pandas"
   ]
  },
  {
   "cell_type": "code",
   "execution_count": 2,
   "id": "ae0532c9",
   "metadata": {},
   "outputs": [],
   "source": [
    "import tensorflow as tf\n",
    "import pandas as pd"
   ]
  },
  {
   "cell_type": "markdown",
   "id": "f7ffb3a5",
   "metadata": {},
   "source": [
    "## Import the dataset as Pandas Dataframe"
   ]
  },
  {
   "cell_type": "code",
   "execution_count": 3,
   "id": "f0459a7f",
   "metadata": {},
   "outputs": [],
   "source": [
    "df = pd.read_csv('C:\\\\Users\\\\JoeWi\\\\TensorFlowWorkshopProjects\\\\Exercise\\\\Data\\\\Bias_correction_ucl.csv')"
   ]
  },
  {
   "cell_type": "markdown",
   "id": "223f1c9a",
   "metadata": {},
   "source": [
    "## Drop unnecessary columns\n",
    "\n",
    "The date column is not necessary"
   ]
  },
  {
   "cell_type": "code",
   "execution_count": 4,
   "id": "e19af66e",
   "metadata": {},
   "outputs": [],
   "source": [
    "df.drop('Date', inplace=True, axis=1)\n",
    "\n",
    "df.dropna(inplace=True)"
   ]
  },
  {
   "cell_type": "markdown",
   "id": "0559d205",
   "metadata": {},
   "source": [
    "## Create Target and Feature Datasets"
   ]
  },
  {
   "cell_type": "code",
   "execution_count": 5,
   "id": "caaab02c",
   "metadata": {},
   "outputs": [],
   "source": [
    "target = df[['Next_Tmax',\n",
    "            'Next_Tmin']]\n",
    "\n",
    "features = df.drop(['Next_Tmax',\n",
    "                   'Next_Tmin'], \n",
    "                  axis=1)"
   ]
  },
  {
   "cell_type": "markdown",
   "id": "867f22e7",
   "metadata": {},
   "source": [
    "## Rescale the Feature Dataset"
   ]
  },
  {
   "cell_type": "code",
   "execution_count": 7,
   "id": "9c115e6e",
   "metadata": {},
   "outputs": [],
   "source": [
    "from sklearn.preprocessing import MinMaxScaler\n",
    "\n",
    "scaler = MinMaxScaler()\n",
    "\n",
    "feature_array = scaler.fit_transform(features)\n",
    "\n",
    "features = pd.DataFrame(feature_array,\n",
    "                       columns=features.columns)"
   ]
  },
  {
   "cell_type": "markdown",
   "id": "c0e6bfca",
   "metadata": {},
   "source": [
    "## Init a Keras model of the Sequential class"
   ]
  },
  {
   "cell_type": "code",
   "execution_count": 8,
   "id": "6f701b3f",
   "metadata": {},
   "outputs": [],
   "source": [
    "model = tf.keras.Sequential()"
   ]
  },
  {
   "cell_type": "markdown",
   "id": "3cd1262a",
   "metadata": {},
   "source": [
    "## Add an Input Layer\n",
    "\n",
    "set input_shape to be the number of columns in the feature dataset"
   ]
  },
  {
   "cell_type": "code",
   "execution_count": 9,
   "id": "c638c84c",
   "metadata": {},
   "outputs": [],
   "source": [
    "model.add(tf.keras.layers.InputLayer(input_shape=(features.shape[1],), name='Input_layer'))"
   ]
  },
  {
   "cell_type": "markdown",
   "id": "21f1effb",
   "metadata": {},
   "source": [
    "## Add the output layer of the Dense class\n",
    "\n",
    "the size of the model represents the number of target variables"
   ]
  },
  {
   "cell_type": "code",
   "execution_count": 10,
   "id": "c1947693",
   "metadata": {},
   "outputs": [],
   "source": [
    "model.add(tf.keras.layers.Dense(2, name='Output_layer'))"
   ]
  },
  {
   "cell_type": "markdown",
   "id": "2e62684e",
   "metadata": {},
   "source": [
    "## Compile the model with RMSprop and MSE loss"
   ]
  },
  {
   "cell_type": "code",
   "execution_count": 11,
   "id": "329af317",
   "metadata": {},
   "outputs": [],
   "source": [
    "model.compile(tf.optimizers.RMSprop(0.001), loss='mse')"
   ]
  },
  {
   "cell_type": "markdown",
   "id": "7478ee36",
   "metadata": {},
   "source": [
    "## Add a callback for TensorFlow"
   ]
  },
  {
   "cell_type": "code",
   "execution_count": 12,
   "id": "7a93a455",
   "metadata": {},
   "outputs": [],
   "source": [
    "tensorboard_callback = tf.keras.callbacks.TensorBoard(log_dir=\"./logs\")"
   ]
  },
  {
   "cell_type": "markdown",
   "id": "ad7d0415",
   "metadata": {},
   "source": [
    "## Fit the model to the training data"
   ]
  },
  {
   "cell_type": "code",
   "execution_count": 14,
   "id": "e781f475",
   "metadata": {},
   "outputs": [
    {
     "name": "stdout",
     "output_type": "stream",
     "text": [
      "Epoch 1/50\n",
      "238/238 [==============================] - 2s 3ms/step - loss: 659.4833\n",
      "Epoch 2/50\n",
      "238/238 [==============================] - 1s 3ms/step - loss: 554.7180\n",
      "Epoch 3/50\n",
      "238/238 [==============================] - 1s 3ms/step - loss: 459.7140\n",
      "Epoch 4/50\n",
      "238/238 [==============================] - 1s 3ms/step - loss: 374.3394\n",
      "Epoch 5/50\n",
      "238/238 [==============================] - 1s 3ms/step - loss: 298.5517\n",
      "Epoch 6/50\n",
      "238/238 [==============================] - 1s 2ms/step - loss: 232.3452\n",
      "Epoch 7/50\n",
      "238/238 [==============================] - 1s 3ms/step - loss: 175.6169\n",
      "Epoch 8/50\n",
      "238/238 [==============================] - 1s 3ms/step - loss: 128.6128\n",
      "Epoch 9/50\n",
      "238/238 [==============================] - 1s 3ms/step - loss: 91.1099\n",
      "Epoch 10/50\n",
      "238/238 [==============================] - 1s 3ms/step - loss: 63.1633\n",
      "Epoch 11/50\n",
      "238/238 [==============================] - 1s 2ms/step - loss: 44.0976\n",
      "Epoch 12/50\n",
      "238/238 [==============================] - 1s 3ms/step - loss: 32.5154\n",
      "Epoch 13/50\n",
      "238/238 [==============================] - 1s 3ms/step - loss: 25.6484\n",
      "Epoch 14/50\n",
      "238/238 [==============================] - 1s 3ms/step - loss: 21.8300\n",
      "Epoch 15/50\n",
      "238/238 [==============================] - 1s 3ms/step - loss: 19.3618\n",
      "Epoch 16/50\n",
      "238/238 [==============================] - 1s 3ms/step - loss: 17.4870\n",
      "Epoch 17/50\n",
      "238/238 [==============================] - 1s 3ms/step - loss: 15.8089\n",
      "Epoch 18/50\n",
      "238/238 [==============================] - 1s 3ms/step - loss: 14.2656\n",
      "Epoch 19/50\n",
      "238/238 [==============================] - 1s 3ms/step - loss: 12.8787\n",
      "Epoch 20/50\n",
      "238/238 [==============================] - 1s 3ms/step - loss: 11.6450\n",
      "Epoch 21/50\n",
      "238/238 [==============================] - 1s 3ms/step - loss: 10.5592\n",
      "Epoch 22/50\n",
      "238/238 [==============================] - 1s 2ms/step - loss: 9.5862\n",
      "Epoch 23/50\n",
      "238/238 [==============================] - 1s 3ms/step - loss: 8.7585\n",
      "Epoch 24/50\n",
      "238/238 [==============================] - 1s 3ms/step - loss: 8.0524\n",
      "Epoch 25/50\n",
      "238/238 [==============================] - 1s 3ms/step - loss: 7.4390\n",
      "Epoch 26/50\n",
      "238/238 [==============================] - 1s 3ms/step - loss: 6.8890\n",
      "Epoch 27/50\n",
      "238/238 [==============================] - 1s 3ms/step - loss: 6.4415\n",
      "Epoch 28/50\n",
      "238/238 [==============================] - 1s 3ms/step - loss: 6.0558\n",
      "Epoch 29/50\n",
      "238/238 [==============================] - 1s 3ms/step - loss: 5.7310\n",
      "Epoch 30/50\n",
      "238/238 [==============================] - 1s 3ms/step - loss: 5.4609\n",
      "Epoch 31/50\n",
      "238/238 [==============================] - 1s 3ms/step - loss: 5.2404\n",
      "Epoch 32/50\n",
      "238/238 [==============================] - 1s 3ms/step - loss: 5.0621\n",
      "Epoch 33/50\n",
      "238/238 [==============================] - 1s 3ms/step - loss: 4.9033\n",
      "Epoch 34/50\n",
      "238/238 [==============================] - 1s 2ms/step - loss: 4.7611\n",
      "Epoch 35/50\n",
      "238/238 [==============================] - 1s 3ms/step - loss: 4.6456\n",
      "Epoch 36/50\n",
      "238/238 [==============================] - 1s 3ms/step - loss: 4.5396\n",
      "Epoch 37/50\n",
      "238/238 [==============================] - 1s 3ms/step - loss: 4.4428\n",
      "Epoch 38/50\n",
      "238/238 [==============================] - 1s 3ms/step - loss: 4.3603\n",
      "Epoch 39/50\n",
      "238/238 [==============================] - 1s 3ms/step - loss: 4.2798\n",
      "Epoch 40/50\n",
      "238/238 [==============================] - 1s 3ms/step - loss: 4.2046\n",
      "Epoch 41/50\n",
      "238/238 [==============================] - 1s 3ms/step - loss: 4.1367\n",
      "Epoch 42/50\n",
      "238/238 [==============================] - 1s 3ms/step - loss: 4.0668\n",
      "Epoch 43/50\n",
      "238/238 [==============================] - 1s 3ms/step - loss: 4.0078\n",
      "Epoch 44/50\n",
      "238/238 [==============================] - 1s 3ms/step - loss: 3.9498\n",
      "Epoch 45/50\n",
      "238/238 [==============================] - 1s 3ms/step - loss: 3.8919\n",
      "Epoch 46/50\n",
      "238/238 [==============================] - 1s 3ms/step - loss: 3.8371\n",
      "Epoch 47/50\n",
      "238/238 [==============================] - 1s 3ms/step - loss: 3.7850\n",
      "Epoch 48/50\n",
      "238/238 [==============================] - 1s 3ms/step - loss: 3.7340\n",
      "Epoch 49/50\n",
      "238/238 [==============================] - 1s 3ms/step - loss: 3.6882\n",
      "Epoch 50/50\n",
      "238/238 [==============================] - 1s 3ms/step - loss: 3.6405\n"
     ]
    },
    {
     "data": {
      "text/plain": [
       "<keras.callbacks.History at 0x1f136429408>"
      ]
     },
     "execution_count": 14,
     "metadata": {},
     "output_type": "execute_result"
    }
   ],
   "source": [
    "model.fit(x=features.to_numpy(),\n",
    "         y=target.to_numpy(),\n",
    "         epochs=50, callbacks=[tensorboard_callback])"
   ]
  },
  {
   "cell_type": "markdown",
   "id": "9c470eda",
   "metadata": {},
   "source": [
    "## Evaluate the model on the training data"
   ]
  },
  {
   "cell_type": "code",
   "execution_count": 15,
   "id": "4f91a6f0",
   "metadata": {},
   "outputs": [
    {
     "name": "stdout",
     "output_type": "stream",
     "text": [
      "238/238 [==============================] - 1s 2ms/step - loss: 3.6145\n",
      "loss:  3.614474296569824\n"
     ]
    }
   ],
   "source": [
    "loss = model.evaluate(features.to_numpy(),\n",
    "                     target.to_numpy())\n",
    "\n",
    "print('loss: ', loss)"
   ]
  }
 ],
 "metadata": {
  "kernelspec": {
   "display_name": "tensorflow",
   "language": "python",
   "name": "tensorflow"
  },
  "language_info": {
   "codemirror_mode": {
    "name": "ipython",
    "version": 3
   },
   "file_extension": ".py",
   "mimetype": "text/x-python",
   "name": "python",
   "nbconvert_exporter": "python",
   "pygments_lexer": "ipython3",
   "version": "3.7.12"
  }
 },
 "nbformat": 4,
 "nbformat_minor": 5
}

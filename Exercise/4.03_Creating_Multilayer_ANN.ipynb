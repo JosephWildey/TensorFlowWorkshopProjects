{
 "cells": [
  {
   "cell_type": "markdown",
   "id": "1781bdef",
   "metadata": {},
   "source": [
    "# Exercise 4.03 Creating a Multilayer ANN"
   ]
  },
  {
   "cell_type": "markdown",
   "id": "718221a3",
   "metadata": {},
   "source": [
    "### Import Libraries"
   ]
  },
  {
   "cell_type": "code",
   "execution_count": 1,
   "id": "39b90aa1",
   "metadata": {},
   "outputs": [],
   "source": [
    "import tensorflow as tf\n",
    "import pandas as pd"
   ]
  },
  {
   "cell_type": "markdown",
   "id": "1a0e83b8",
   "metadata": {},
   "source": [
    "### Import dataset"
   ]
  },
  {
   "cell_type": "code",
   "execution_count": 2,
   "id": "d5701679",
   "metadata": {},
   "outputs": [],
   "source": [
    "df = pd.read_csv(\"C:\\\\Users\\\\JoeWi\\\\TensorFlowWorkshopProjects\\\\Exercise\\\\Data\\\\Bias_correction_ucl.csv\")"
   ]
  },
  {
   "cell_type": "markdown",
   "id": "98a9dc7f",
   "metadata": {},
   "source": [
    "### Preprocess Data"
   ]
  },
  {
   "cell_type": "code",
   "execution_count": 3,
   "id": "447b7245",
   "metadata": {},
   "outputs": [],
   "source": [
    "df.drop('Date', inplace=True, axis=1)\n",
    "\n",
    "df.dropna(inplace=True)"
   ]
  },
  {
   "cell_type": "markdown",
   "id": "06ce6ff1",
   "metadata": {},
   "source": [
    "### Create target and feature datasets"
   ]
  },
  {
   "cell_type": "code",
   "execution_count": 4,
   "id": "4d6cf74d",
   "metadata": {},
   "outputs": [],
   "source": [
    "target = df[['Next_Tmax',\n",
    "            'Next_Tmin']]\n",
    "\n",
    "features = df.drop(['Next_Tmax',\n",
    "                   'Next_Tmin'],\n",
    "                  axis=1)"
   ]
  },
  {
   "cell_type": "markdown",
   "id": "04f19fd0",
   "metadata": {},
   "source": [
    "### Rescale feature dataset"
   ]
  },
  {
   "cell_type": "code",
   "execution_count": 5,
   "id": "556deb0f",
   "metadata": {},
   "outputs": [],
   "source": [
    "from sklearn.preprocessing import MinMaxScaler\n",
    "\n",
    "scaler = MinMaxScaler()\n",
    "\n",
    "feature_array = scaler.fit_transform(features)\n",
    "\n",
    "features = pd.DataFrame(feature_array,\n",
    "                       columns=features.columns)"
   ]
  },
  {
   "cell_type": "markdown",
   "id": "b3494cef",
   "metadata": {},
   "source": [
    "### Init a Keras Model of the Sequential Class"
   ]
  },
  {
   "cell_type": "code",
   "execution_count": 6,
   "id": "9dfff2cf",
   "metadata": {},
   "outputs": [],
   "source": [
    "model = tf.keras.Sequential()"
   ]
  },
  {
   "cell_type": "markdown",
   "id": "ae7ff895",
   "metadata": {},
   "source": [
    "### Add an input layer"
   ]
  },
  {
   "cell_type": "code",
   "execution_count": 9,
   "id": "edc68002",
   "metadata": {},
   "outputs": [],
   "source": [
    "model.add(tf.keras.layers.InputLayer(\n",
    "    input_shape=(features.shape[1],),\n",
    "    name='Input_Layer'))"
   ]
  },
  {
   "cell_type": "markdown",
   "id": "2a4f4955",
   "metadata": {},
   "source": [
    "### Add three hidden layers and a Dense output layer\n",
    "\n",
    "The first layer has 16 units.\\\n",
    "The second layer has 8 units.\\\n",
    "The third unit has 4 units.\\\n",
    "The output has 2 units to mach the target value's two columns"
   ]
  },
  {
   "cell_type": "code",
   "execution_count": 10,
   "id": "7ef57508",
   "metadata": {},
   "outputs": [],
   "source": [
    "model.add(tf.keras.layers.Dense(16, name=\"Dense_layer_1\"))\n",
    "\n",
    "model.add(tf.keras.layers.Dense(8, name=\"Dense_layer_2\"))\n",
    "\n",
    "model.add(tf.keras.layers.Dense(4, name=\"Dense_layer_3\"))\n",
    "\n",
    "model.add(tf.keras.layers.Dense(2, name=\"Output_layer\"))"
   ]
  },
  {
   "cell_type": "markdown",
   "id": "ce8aecba",
   "metadata": {},
   "source": [
    "### Compile model with MSE and RMSProp"
   ]
  },
  {
   "cell_type": "code",
   "execution_count": 12,
   "id": "19d56000",
   "metadata": {},
   "outputs": [],
   "source": [
    "model.compile(tf.optimizers.RMSprop(0.001), loss='mse')"
   ]
  },
  {
   "cell_type": "markdown",
   "id": "35ae2e7a",
   "metadata": {},
   "source": [
    "### Tensorboard callback"
   ]
  },
  {
   "cell_type": "code",
   "execution_count": 13,
   "id": "8bfce6bd",
   "metadata": {},
   "outputs": [],
   "source": [
    "tensorboard_callback = tf.keras.callbacks.TensorBoard(log_dir=\"./logs\")"
   ]
  },
  {
   "cell_type": "code",
   "execution_count": 14,
   "id": "9d573b4f",
   "metadata": {},
   "outputs": [
    {
     "name": "stdout",
     "output_type": "stream",
     "text": [
      "Epoch 1/50\n",
      "190/190 [==============================] - 3s 6ms/step - loss: 254.2996 - val_loss: 21.6064\n",
      "Epoch 2/50\n",
      "190/190 [==============================] - 1s 4ms/step - loss: 10.9036 - val_loss: 6.4558\n",
      "Epoch 3/50\n",
      "190/190 [==============================] - 1s 4ms/step - loss: 4.8240 - val_loss: 4.9103\n",
      "Epoch 4/50\n",
      "190/190 [==============================] - 1s 4ms/step - loss: 3.6960 - val_loss: 4.4576\n",
      "Epoch 5/50\n",
      "190/190 [==============================] - 1s 4ms/step - loss: 3.0592 - val_loss: 3.4396\n",
      "Epoch 6/50\n",
      "190/190 [==============================] - 1s 4ms/step - loss: 2.6570 - val_loss: 3.3311\n",
      "Epoch 7/50\n",
      "190/190 [==============================] - 1s 4ms/step - loss: 2.3533 - val_loss: 2.9862\n",
      "Epoch 8/50\n",
      "190/190 [==============================] - 1s 4ms/step - loss: 2.1435 - val_loss: 2.6052\n",
      "Epoch 9/50\n",
      "190/190 [==============================] - 1s 4ms/step - loss: 2.0009 - val_loss: 2.6266\n",
      "Epoch 10/50\n",
      "190/190 [==============================] - 1s 4ms/step - loss: 1.9010 - val_loss: 2.3838\n",
      "Epoch 11/50\n",
      "190/190 [==============================] - 1s 4ms/step - loss: 1.8255 - val_loss: 2.0216\n",
      "Epoch 12/50\n",
      "190/190 [==============================] - 1s 4ms/step - loss: 1.7573 - val_loss: 2.6184\n",
      "Epoch 13/50\n",
      "190/190 [==============================] - 1s 4ms/step - loss: 1.7340 - val_loss: 2.2430\n",
      "Epoch 14/50\n",
      "190/190 [==============================] - 1s 4ms/step - loss: 1.6870 - val_loss: 1.9181\n",
      "Epoch 15/50\n",
      "190/190 [==============================] - 1s 4ms/step - loss: 1.6739 - val_loss: 1.9704\n",
      "Epoch 16/50\n",
      "190/190 [==============================] - 1s 4ms/step - loss: 1.6643 - val_loss: 1.9924\n",
      "Epoch 17/50\n",
      "190/190 [==============================] - 1s 4ms/step - loss: 1.6472 - val_loss: 1.9192\n",
      "Epoch 18/50\n",
      "190/190 [==============================] - 1s 4ms/step - loss: 1.6398 - val_loss: 1.9371\n",
      "Epoch 19/50\n",
      "190/190 [==============================] - 1s 4ms/step - loss: 1.6382 - val_loss: 1.9147\n",
      "Epoch 20/50\n",
      "190/190 [==============================] - 1s 4ms/step - loss: 1.6290 - val_loss: 1.9070\n",
      "Epoch 21/50\n",
      "190/190 [==============================] - 1s 4ms/step - loss: 1.6273 - val_loss: 1.9386\n",
      "Epoch 22/50\n",
      "190/190 [==============================] - 1s 4ms/step - loss: 1.6241 - val_loss: 1.8533\n",
      "Epoch 23/50\n",
      "190/190 [==============================] - 1s 4ms/step - loss: 1.6233 - val_loss: 1.9848\n",
      "Epoch 24/50\n",
      "190/190 [==============================] - 1s 4ms/step - loss: 1.6154 - val_loss: 1.8667\n",
      "Epoch 25/50\n",
      "190/190 [==============================] - 1s 4ms/step - loss: 1.6291 - val_loss: 1.8340\n",
      "Epoch 26/50\n",
      "190/190 [==============================] - 1s 4ms/step - loss: 1.6221 - val_loss: 2.1395\n",
      "Epoch 27/50\n",
      "190/190 [==============================] - 1s 4ms/step - loss: 1.6061 - val_loss: 2.5139\n",
      "Epoch 28/50\n",
      "190/190 [==============================] - 1s 4ms/step - loss: 1.6139 - val_loss: 1.8727\n",
      "Epoch 29/50\n",
      "190/190 [==============================] - 1s 4ms/step - loss: 1.6131 - val_loss: 2.0353\n",
      "Epoch 30/50\n",
      "190/190 [==============================] - 1s 4ms/step - loss: 1.6084 - val_loss: 2.0121\n",
      "Epoch 31/50\n",
      "190/190 [==============================] - 1s 4ms/step - loss: 1.6117 - val_loss: 2.1391\n",
      "Epoch 32/50\n",
      "190/190 [==============================] - 1s 4ms/step - loss: 1.6248 - val_loss: 1.9488\n",
      "Epoch 33/50\n",
      "190/190 [==============================] - 1s 4ms/step - loss: 1.6057 - val_loss: 1.8071\n",
      "Epoch 34/50\n",
      "190/190 [==============================] - 1s 4ms/step - loss: 1.6159 - val_loss: 1.8555\n",
      "Epoch 35/50\n",
      "190/190 [==============================] - 1s 4ms/step - loss: 1.6105 - val_loss: 1.8111\n",
      "Epoch 36/50\n",
      "190/190 [==============================] - 1s 4ms/step - loss: 1.6041 - val_loss: 1.9063\n",
      "Epoch 37/50\n",
      "190/190 [==============================] - 1s 4ms/step - loss: 1.5961 - val_loss: 1.8736\n",
      "Epoch 38/50\n",
      "190/190 [==============================] - 1s 4ms/step - loss: 1.6083 - val_loss: 2.1047\n",
      "Epoch 39/50\n",
      "190/190 [==============================] - 1s 3ms/step - loss: 1.6056 - val_loss: 1.9604\n",
      "Epoch 40/50\n",
      "190/190 [==============================] - 1s 4ms/step - loss: 1.6067 - val_loss: 2.1736\n",
      "Epoch 41/50\n",
      "190/190 [==============================] - 1s 3ms/step - loss: 1.6090 - val_loss: 2.0775\n",
      "Epoch 42/50\n",
      "190/190 [==============================] - 1s 4ms/step - loss: 1.6038 - val_loss: 1.9056\n",
      "Epoch 43/50\n",
      "190/190 [==============================] - 1s 3ms/step - loss: 1.6045 - val_loss: 1.8662\n",
      "Epoch 44/50\n",
      "190/190 [==============================] - 1s 3ms/step - loss: 1.5993 - val_loss: 2.0501\n",
      "Epoch 45/50\n",
      "190/190 [==============================] - 1s 4ms/step - loss: 1.6035 - val_loss: 2.0328\n",
      "Epoch 46/50\n",
      "190/190 [==============================] - 1s 4ms/step - loss: 1.6015 - val_loss: 1.8486\n",
      "Epoch 47/50\n",
      "190/190 [==============================] - 1s 4ms/step - loss: 1.6075 - val_loss: 1.8125\n",
      "Epoch 48/50\n",
      "190/190 [==============================] - 1s 4ms/step - loss: 1.6064 - val_loss: 2.0851\n",
      "Epoch 49/50\n",
      "190/190 [==============================] - 1s 4ms/step - loss: 1.5905 - val_loss: 1.8269\n",
      "Epoch 50/50\n",
      "190/190 [==============================] - 1s 4ms/step - loss: 1.6041 - val_loss: 1.9775\n"
     ]
    },
    {
     "data": {
      "text/plain": [
       "<keras.callbacks.History at 0x20fc289dcc8>"
      ]
     },
     "execution_count": 14,
     "metadata": {},
     "output_type": "execute_result"
    }
   ],
   "source": [
    "model.fit(x=features.to_numpy(),\n",
    "         y=target.to_numpy(),\n",
    "         epochs=50,\n",
    "         callbacks=[tensorboard_callback],\n",
    "         validation_split=0.2)"
   ]
  },
  {
   "cell_type": "markdown",
   "id": "d8403d1c",
   "metadata": {},
   "source": [
    "### Evaluate loss"
   ]
  },
  {
   "cell_type": "code",
   "execution_count": 15,
   "id": "475089c5",
   "metadata": {},
   "outputs": [
    {
     "name": "stdout",
     "output_type": "stream",
     "text": [
      "238/238 [==============================] - 1s 3ms/step - loss: 1.6304\n",
      "loss:  1.6303507089614868\n"
     ]
    }
   ],
   "source": [
    "loss = model.evaluate(features.to_numpy(),\n",
    "                     target.to_numpy())\n",
    "\n",
    "print('loss: ', loss)"
   ]
  },
  {
   "cell_type": "code",
   "execution_count": null,
   "id": "b7f1e4db",
   "metadata": {},
   "outputs": [],
   "source": []
  }
 ],
 "metadata": {
  "kernelspec": {
   "display_name": "tensorflow",
   "language": "python",
   "name": "tensorflow"
  },
  "language_info": {
   "codemirror_mode": {
    "name": "ipython",
    "version": 3
   },
   "file_extension": ".py",
   "mimetype": "text/x-python",
   "name": "python",
   "nbconvert_exporter": "python",
   "pygments_lexer": "ipython3",
   "version": "3.7.12"
  }
 },
 "nbformat": 4,
 "nbformat_minor": 5
}

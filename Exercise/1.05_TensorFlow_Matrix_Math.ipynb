{
 "cells": [
  {
   "cell_type": "markdown",
   "id": "2d66fdde",
   "metadata": {},
   "source": [
    "# Tensorflow Exercise 1.05"
   ]
  },
  {
   "cell_type": "markdown",
   "id": "497cd12f",
   "metadata": {},
   "source": [
    "## Problem statement:\n",
    "    \n",
    "\"Given information regarding various sandwich ingredients determine the cost of each sandwich.\""
   ]
  },
  {
   "cell_type": "markdown",
   "id": "e6aa27d8",
   "metadata": {},
   "source": [
    "## Index\n",
    "\n",
    "1. [Import tensorflow](http://localhost:8889/notebooks/The-TensorFlow-Workshop/Exercise%201.05.ipynb#Import-tensorflow)\n",
    "2. [Sandwich recipe matrix](http://localhost:8889/notebooks/The-TensorFlow-Workshop/Exercise%201.05.ipynb#Matrix-representing-different-sandwich-recipes)\n",
    "3. [Ingredient characteristics matrix](http://localhost:8889/notebooks/The-TensorFlow-Workshop/Exercise%201.05.ipynb#Create-a-second-matrix-representing-the-cost-and-weight-of-each-individual-ingredient)\n",
    "4. [Stores and sandwiches matrix](http://localhost:8889/notebooks/The-TensorFlow-Workshop/Exercise%201.05.ipynb#Create-a-third-matrix-to-represent-the-five-different-stores-for-each-of-the-three-sandwiches)\n",
    "5. [Explanation of result](http://localhost:8889/notebooks/The-TensorFlow-Workshop/Exercise%201.05.ipynb#Explanation-of-results)\n",
    "6. [Citation](http://localhost:8889/notebooks/The-TensorFlow-Workshop/Exercise%201.05.ipynb#References)"
   ]
  },
  {
   "cell_type": "markdown",
   "id": "4b108d64",
   "metadata": {},
   "source": [
    "## Import tensorflow"
   ]
  },
  {
   "cell_type": "code",
   "execution_count": 1,
   "id": "aee59be3",
   "metadata": {},
   "outputs": [],
   "source": [
    "import tensorflow as tf"
   ]
  },
  {
   "cell_type": "markdown",
   "id": "e3517ba0",
   "metadata": {},
   "source": [
    "## Matrix representing different sandwich recipes\n",
    "\n",
    "The rows represent the different sandwich offerings\n",
    "The columns represent the combination and number of five different ingredients"
   ]
  },
  {
   "cell_type": "code",
   "execution_count": 3,
   "id": "3ad323de",
   "metadata": {},
   "outputs": [
    {
     "data": {
      "text/plain": [
       "<tf.Variable 'Variable:0' shape=(3, 5) dtype=float32, numpy=\n",
       "array([[1., 0., 3., 1., 2.],\n",
       "       [0., 1., 1., 1., 1.],\n",
       "       [2., 1., 0., 2., 0.]], dtype=float32)>"
      ]
     },
     "execution_count": 3,
     "metadata": {},
     "output_type": "execute_result"
    }
   ],
   "source": [
    "matrix1 = tf.Variable([[1.0, 0.0, 3.0, 1.0, 2.0], [0.0, 1.0, 1.0, 1.0, 1.0], [2.0, 1.0, 0.0, 2.0, 0.0]], tf.float32)\n",
    "\n",
    "matrix1"
   ]
  },
  {
   "cell_type": "markdown",
   "id": "000fcfc3",
   "metadata": {},
   "source": [
    "### Verify the shape of the matrix"
   ]
  },
  {
   "cell_type": "code",
   "execution_count": 4,
   "id": "514c0741",
   "metadata": {},
   "outputs": [
    {
     "data": {
      "text/plain": [
       "[3, 5]"
      ]
     },
     "execution_count": 4,
     "metadata": {},
     "output_type": "execute_result"
    }
   ],
   "source": [
    "matrix1.shape.as_list()"
   ]
  },
  {
   "cell_type": "markdown",
   "id": "a9d34e8f",
   "metadata": {},
   "source": [
    "## Create a second matrix representing the cost and weight of each individual ingredient\n",
    "\n",
    "The rows represent the five ingredients\n",
    "The columns represent the cost and weight of the ingredients in grams"
   ]
  },
  {
   "cell_type": "code",
   "execution_count": 7,
   "id": "931c7e47",
   "metadata": {},
   "outputs": [
    {
     "data": {
      "text/plain": [
       "<tf.Variable 'Variable:0' shape=(5, 2) dtype=float32, numpy=\n",
       "array([[  0.49, 103.  ],\n",
       "       [  0.18,  38.  ],\n",
       "       [  0.24,  69.  ],\n",
       "       [  1.02,  75.  ],\n",
       "       [  0.68,  78.  ]], dtype=float32)>"
      ]
     },
     "execution_count": 7,
     "metadata": {},
     "output_type": "execute_result"
    }
   ],
   "source": [
    "matrix2 = tf.Variable([[0.49, 103], \\\n",
    "                      [0.18, 38], \\\n",
    "                      [0.24, 69], \\\n",
    "                      [1.02, 75], \\\n",
    "                      [0.68, 78]], tf.int32)\n",
    "\n",
    "matrix2"
   ]
  },
  {
   "cell_type": "markdown",
   "id": "8a6f77e9",
   "metadata": {},
   "source": [
    "### Use TensorFlow matmul to multiply two matrices"
   ]
  },
  {
   "cell_type": "code",
   "execution_count": 9,
   "id": "eda411ca",
   "metadata": {},
   "outputs": [
    {
     "data": {
      "text/plain": [
       "<tf.Tensor: shape=(3, 2), dtype=float32, numpy=\n",
       "array([[  3.5900002, 541.       ],\n",
       "       [  2.1200001, 260.       ],\n",
       "       [  3.2      , 394.       ]], dtype=float32)>"
      ]
     },
     "execution_count": 9,
     "metadata": {},
     "output_type": "execute_result"
    }
   ],
   "source": [
    "matmul1 = tf.matmul(matrix1, matrix2)\n",
    "\n",
    "matmul1"
   ]
  },
  {
   "cell_type": "markdown",
   "id": "2b676138",
   "metadata": {},
   "source": [
    "## Create a third matrix to represent the five different stores for each of the three sandwiches\n",
    "\n",
    "The matrices will also be multiplied. The third matrix will be multiplied by the resulting matrix of the previous two matrices being multiplied."
   ]
  },
  {
   "cell_type": "code",
   "execution_count": 18,
   "id": "0cc4cfef",
   "metadata": {},
   "outputs": [
    {
     "data": {
      "text/plain": [
       "<tf.Tensor: shape=(5, 2), dtype=float32, numpy=\n",
       "array([[9.3080005e+02, 1.2638000e+05],\n",
       "       [2.0350000e+02, 2.8010000e+04],\n",
       "       [1.8906001e+03, 2.5431000e+05],\n",
       "       [1.3557501e+03, 1.8111500e+05],\n",
       "       [2.7381001e+03, 3.6949000e+05]], dtype=float32)>"
      ]
     },
     "execution_count": 18,
     "metadata": {},
     "output_type": "execute_result"
    }
   ],
   "source": [
    "matrix3 = tf.Variable([[120.0, 100.0, 90.0],\n",
    "                       [30.0, 15.0, 20.0], \n",
    "                       [220.0, 240.0, 185.0],\n",
    "                       [145.0, 160.0, 155.0],\n",
    "                       [330.0, 295.0, 290.0]])\n",
    "\n",
    "matmul3 = matrix3 @ matmul1\n",
    "\n",
    "matmul3"
   ]
  },
  {
   "cell_type": "markdown",
   "id": "38525ff1",
   "metadata": {},
   "source": [
    "## Explanation of results\n",
    "\n",
    "The result shows the expected cost of sandwiches and the expected weight of the total ingredients for each of the stores."
   ]
  },
  {
   "cell_type": "markdown",
   "id": "55b29823",
   "metadata": {},
   "source": [
    "<h2 align=center>References</h2>\n",
    "\n",
    "Moocarme, M., So, A., & Maddalone, A. (2021). The TensorFlow workshop: A hands-on guide to building deep learning models from scratch using real-world datasets. Packt Publishing. "
   ]
  }
 ],
 "metadata": {
  "kernelspec": {
   "display_name": "tensorflow",
   "language": "python",
   "name": "tensorflow"
  },
  "language_info": {
   "codemirror_mode": {
    "name": "ipython",
    "version": 3
   },
   "file_extension": ".py",
   "mimetype": "text/x-python",
   "name": "python",
   "nbconvert_exporter": "python",
   "pygments_lexer": "ipython3",
   "version": "3.7.12"
  }
 },
 "nbformat": 4,
 "nbformat_minor": 5
}

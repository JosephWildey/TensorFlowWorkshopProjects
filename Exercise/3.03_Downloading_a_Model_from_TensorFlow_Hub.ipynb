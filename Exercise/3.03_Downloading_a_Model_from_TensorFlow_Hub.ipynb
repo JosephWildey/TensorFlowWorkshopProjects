{
 "cells": [
  {
   "cell_type": "markdown",
   "id": "8b9927fd",
   "metadata": {},
   "source": [
    "# Downloading a model from Tensorflow Hub"
   ]
  },
  {
   "cell_type": "markdown",
   "id": "6c92b3f7",
   "metadata": {},
   "source": [
    "## import several libraries from TensorFlow"
   ]
  },
  {
   "cell_type": "code",
   "execution_count": 1,
   "id": "ce36ece0",
   "metadata": {},
   "outputs": [],
   "source": [
    "%load_ext tensorboard\n",
    "import tensorflow as tf\n",
    "import tensorflow_hub as hub\n",
    "from tensorflow.python.client import session\n",
    "from tensorflow.python.summary import summary\n",
    "from tensorflow.python.framework import ops"
   ]
  },
  {
   "cell_type": "markdown",
   "id": "f04e3c5a",
   "metadata": {},
   "source": [
    "## variable for logs to be stored"
   ]
  },
  {
   "cell_type": "code",
   "execution_count": 2,
   "id": "1b693384",
   "metadata": {},
   "outputs": [],
   "source": [
    "logdir = 'logs/'"
   ]
  },
  {
   "cell_type": "markdown",
   "id": "54631366",
   "metadata": {},
   "source": [
    "## load tensorflow_hub module"
   ]
  },
  {
   "cell_type": "code",
   "execution_count": 3,
   "id": "153113aa",
   "metadata": {},
   "outputs": [],
   "source": [
    "module = hub.load('https://tfhub.dev/google/imagenet/inception_v3/classification/5')"
   ]
  },
  {
   "cell_type": "code",
   "execution_count": 4,
   "id": "207adfe2",
   "metadata": {},
   "outputs": [],
   "source": [
    "model = module.signatures['serving_default']"
   ]
  },
  {
   "cell_type": "markdown",
   "id": "76295ded",
   "metadata": {},
   "source": [
    "## graph to tensorboard with file writer"
   ]
  },
  {
   "cell_type": "code",
   "execution_count": 5,
   "id": "496ef753",
   "metadata": {},
   "outputs": [],
   "source": [
    "with session.Session(graph=ops.Graph()) as sess:\n",
    "    file_writer = summary.FileWriter(logdir)\n",
    "    file_writer.add_graph(model.graph)"
   ]
  },
  {
   "cell_type": "code",
   "execution_count": 6,
   "id": "e5e39b1e",
   "metadata": {},
   "outputs": [
    {
     "data": {
      "text/html": [
       "\n",
       "      <iframe id=\"tensorboard-frame-155e7a147c12caed\" width=\"100%\" height=\"800\" frameborder=\"0\">\n",
       "      </iframe>\n",
       "      <script>\n",
       "        (function() {\n",
       "          const frame = document.getElementById(\"tensorboard-frame-155e7a147c12caed\");\n",
       "          const url = new URL(\"/\", window.location);\n",
       "          const port = 6006;\n",
       "          if (port) {\n",
       "            url.port = port;\n",
       "          }\n",
       "          frame.src = url;\n",
       "        })();\n",
       "      </script>\n",
       "    "
      ],
      "text/plain": [
       "<IPython.core.display.HTML object>"
      ]
     },
     "metadata": {},
     "output_type": "display_data"
    }
   ],
   "source": [
    "%tensorboard --logdir logs/ --host localhost"
   ]
  }
 ],
 "metadata": {
  "kernelspec": {
   "display_name": "tensorflow",
   "language": "python",
   "name": "tensorflow"
  },
  "language_info": {
   "codemirror_mode": {
    "name": "ipython",
    "version": 3
   },
   "file_extension": ".py",
   "mimetype": "text/x-python",
   "name": "python",
   "nbconvert_exporter": "python",
   "pygments_lexer": "ipython3",
   "version": "3.7.12"
  }
 },
 "nbformat": 4,
 "nbformat_minor": 5
}

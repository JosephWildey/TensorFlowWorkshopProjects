{
 "cells": [
  {
   "cell_type": "markdown",
   "id": "57dd7700",
   "metadata": {},
   "source": [
    "# Exercise 4.01: Create an Artificial Neural Network with TensorFlow\n",
    "\n",
    "Create an ANN with an input layer, hidden layer, and ReLU activation function, and an output layer with one unit. Then create some simulation data, and simulate a prediction."
   ]
  },
  {
   "cell_type": "markdown",
   "id": "7caf45fb",
   "metadata": {},
   "source": [
    "## Import TensorFlow and load TensorBoard"
   ]
  },
  {
   "cell_type": "code",
   "execution_count": 63,
   "id": "07d5e4e7",
   "metadata": {},
   "outputs": [],
   "source": [
    "import tensorflow as tf"
   ]
  },
  {
   "cell_type": "markdown",
   "id": "ec231ee3",
   "metadata": {},
   "source": [
    "## Initialize a Keras model of the sequential class"
   ]
  },
  {
   "cell_type": "code",
   "execution_count": 64,
   "id": "a3494c18",
   "metadata": {},
   "outputs": [],
   "source": [
    "model = tf.keras.Sequential()"
   ]
  },
  {
   "cell_type": "markdown",
   "id": "4f42717d",
   "metadata": {},
   "source": [
    "## Add an input layer\n",
    "\n",
    "Add the input_shape argument with size (8,) to represent input data with eight features"
   ]
  },
  {
   "cell_type": "code",
   "execution_count": 65,
   "id": "cc6ede76",
   "metadata": {},
   "outputs": [],
   "source": [
    "model.add(tf.keras.layers.InputLayer(input_shape=(8,), name='Input_layer'))"
   ]
  },
  {
   "cell_type": "markdown",
   "id": "7f93ef7f",
   "metadata": {},
   "source": [
    "## Add two Dense class layers\n",
    "\n",
    "The first will represent your hidden layer with four units and a ReLU activation function. The second will represent your output layer with one unit."
   ]
  },
  {
   "cell_type": "code",
   "execution_count": 66,
   "id": "0a896ea9",
   "metadata": {},
   "outputs": [],
   "source": [
    "model.add(tf.keras.layers.Dense(4, activation='relu', name='First_hidden_layer'))\n",
    "\n",
    "model.add(tf.keras.layers.Dense(1, name='Output_layer'))"
   ]
  },
  {
   "cell_type": "markdown",
   "id": "4ae0376d",
   "metadata": {},
   "source": [
    "## View the weights of the layers\n",
    "\n",
    "Call the variables attribute of the model"
   ]
  },
  {
   "cell_type": "code",
   "execution_count": 67,
   "id": "cb9cc919",
   "metadata": {},
   "outputs": [
    {
     "data": {
      "text/plain": [
       "[<tf.Variable 'First_hidden_layer/kernel:0' shape=(8, 4) dtype=float32, numpy=\n",
       " array([[ 0.47704822, -0.06362504, -0.649652  ,  0.38189727],\n",
       "        [ 0.6901496 ,  0.11631739,  0.06102037,  0.49609822],\n",
       "        [ 0.60733205,  0.4735424 ,  0.01956207,  0.7034152 ],\n",
       "        [ 0.20984054, -0.5927912 , -0.08803517, -0.12678057],\n",
       "        [-0.12253118, -0.10004634,  0.6546523 ,  0.11695278],\n",
       "        [ 0.46774822,  0.16586232, -0.2885803 , -0.3602824 ],\n",
       "        [ 0.66688484, -0.67875326,  0.23448873, -0.09327096],\n",
       "        [ 0.4974864 ,  0.24870116, -0.07869357, -0.2424767 ]],\n",
       "       dtype=float32)>,\n",
       " <tf.Variable 'First_hidden_layer/bias:0' shape=(4,) dtype=float32, numpy=array([0., 0., 0., 0.], dtype=float32)>,\n",
       " <tf.Variable 'Output_layer/kernel:0' shape=(4, 1) dtype=float32, numpy=\n",
       " array([[ 0.5769619 ],\n",
       "        [-0.45292902],\n",
       "        [-1.0104438 ],\n",
       "        [-0.14450288]], dtype=float32)>,\n",
       " <tf.Variable 'Output_layer/bias:0' shape=(1,) dtype=float32, numpy=array([0.], dtype=float32)>]"
      ]
     },
     "execution_count": 67,
     "metadata": {},
     "output_type": "execute_result"
    }
   ],
   "source": [
    "model.variables"
   ]
  },
  {
   "cell_type": "markdown",
   "id": "8cf17994",
   "metadata": {},
   "source": [
    "## Create a 32x8 Tensor\n",
    "\n",
    "It will represent a tensor with 32 records and 8 features"
   ]
  },
  {
   "cell_type": "code",
   "execution_count": 68,
   "id": "b224fee1",
   "metadata": {},
   "outputs": [
    {
     "name": "stdout",
     "output_type": "stream",
     "text": [
      "WARNING:tensorflow:Trace already enabled\n"
     ]
    }
   ],
   "source": [
    "data = tf.random.normal((32, 8))\n",
    "\n",
    "tf.summary.trace_on(graph=True, profiler=True)"
   ]
  },
  {
   "cell_type": "markdown",
   "id": "d5e25441",
   "metadata": {},
   "source": [
    "## Call the Predict method\n",
    "\n",
    "and pass in the sample data. This will propagate the data through the network. In each layer, there will be a matrix multiplication of the data with the weights, and the bias will be added before the data is passed as input data to the next layer. This process continues until the final output layer."
   ]
  },
  {
   "cell_type": "code",
   "execution_count": 69,
   "id": "c3fcd62c",
   "metadata": {},
   "outputs": [
    {
     "data": {
      "text/plain": [
       "array([[ 0.56204545],\n",
       "       [-0.3434476 ],\n",
       "       [ 0.        ],\n",
       "       [-1.2869303 ],\n",
       "       [-1.1651055 ],\n",
       "       [-0.69182664],\n",
       "       [-0.98673165],\n",
       "       [-0.65330225],\n",
       "       [-1.314677  ],\n",
       "       [-0.17074284],\n",
       "       [ 0.        ],\n",
       "       [-0.23829155],\n",
       "       [-1.30581   ],\n",
       "       [ 1.3944101 ],\n",
       "       [ 1.9503137 ],\n",
       "       [ 0.7646124 ],\n",
       "       [-1.2773318 ],\n",
       "       [-0.0377143 ],\n",
       "       [ 0.11771536],\n",
       "       [-0.26818323],\n",
       "       [-1.4746934 ],\n",
       "       [ 0.63295406],\n",
       "       [ 0.        ],\n",
       "       [-0.5496577 ],\n",
       "       [-0.7542842 ],\n",
       "       [-0.32102132],\n",
       "       [-1.4375086 ],\n",
       "       [-0.15175326],\n",
       "       [ 0.3378273 ],\n",
       "       [-0.39702272],\n",
       "       [ 0.48181403],\n",
       "       [-0.11094033]], dtype=float32)"
      ]
     },
     "execution_count": 69,
     "metadata": {},
     "output_type": "execute_result"
    }
   ],
   "source": [
    "model.predict(data)"
   ]
  }
 ],
 "metadata": {
  "kernelspec": {
   "display_name": "tensorflow",
   "language": "python",
   "name": "tensorflow"
  },
  "language_info": {
   "codemirror_mode": {
    "name": "ipython",
    "version": 3
   },
   "file_extension": ".py",
   "mimetype": "text/x-python",
   "name": "python",
   "nbconvert_exporter": "python",
   "pygments_lexer": "ipython3",
   "version": "3.7.12"
  }
 },
 "nbformat": 4,
 "nbformat_minor": 5
}

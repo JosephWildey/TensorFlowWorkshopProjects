{
 "cells": [
  {
   "cell_type": "markdown",
   "id": "be2c026e",
   "metadata": {},
   "source": [
    "# 3.02 Using TensorBoard to Visualize Image Batches"
   ]
  },
  {
   "cell_type": "markdown",
   "id": "6b405177",
   "metadata": {},
   "source": [
    "## import tensorflow and imagedatagenerator"
   ]
  },
  {
   "cell_type": "code",
   "execution_count": 22,
   "id": "f8af913d",
   "metadata": {},
   "outputs": [
    {
     "name": "stdout",
     "output_type": "stream",
     "text": [
      "The tensorboard extension is already loaded. To reload it, use:\n",
      "  %reload_ext tensorboard\n"
     ]
    }
   ],
   "source": [
    "%load_ext tensorboard\n",
    "import tensorflow as tf\n",
    "from tensorflow.keras.preprocessing.image import ImageDataGenerator"
   ]
  },
  {
   "cell_type": "markdown",
   "id": "5441a436",
   "metadata": {},
   "source": [
    "## Create filewriter object"
   ]
  },
  {
   "cell_type": "code",
   "execution_count": 23,
   "id": "207351aa",
   "metadata": {},
   "outputs": [],
   "source": [
    "logdir = 'logs/'\n",
    "writer = tf.summary.create_file_writer(logdir)"
   ]
  },
  {
   "cell_type": "markdown",
   "id": "34e07317",
   "metadata": {},
   "source": [
    "## Initialize an ImagedataGenerator object"
   ]
  },
  {
   "cell_type": "code",
   "execution_count": 24,
   "id": "c2f96aee",
   "metadata": {},
   "outputs": [],
   "source": [
    "train_datagen = ImageDataGenerator(rescale = 1./255)"
   ]
  },
  {
   "cell_type": "markdown",
   "id": "5f3be93f",
   "metadata": {},
   "source": [
    "## Create a batch image loader"
   ]
  },
  {
   "cell_type": "code",
   "execution_count": 25,
   "id": "49325058",
   "metadata": {},
   "outputs": [
    {
     "name": "stdout",
     "output_type": "stream",
     "text": [
      "Found 1327 images belonging to 2 classes.\n"
     ]
    }
   ],
   "source": [
    "training_set = train_datagen.flow_from_directory('image_data',\n",
    "                                                target_size = (224, 224),\n",
    "                                                batch_size = 25,\n",
    "                                                class_mode = 'binary')"
   ]
  },
  {
   "cell_type": "markdown",
   "id": "5214a65f",
   "metadata": {},
   "source": [
    "## Write images from the first batch to logs"
   ]
  },
  {
   "cell_type": "code",
   "execution_count": 26,
   "id": "3384cbc6",
   "metadata": {},
   "outputs": [],
   "source": [
    "with writer.as_default():\n",
    "    tf.summary.image(\"Training data\",\n",
    "                    next(training_set)[0],\n",
    "                    max_outputs=25,\n",
    "                    step=0)"
   ]
  },
  {
   "cell_type": "markdown",
   "id": "44e6c671",
   "metadata": {},
   "source": [
    "## Run TensorBoard in the Notebook"
   ]
  },
  {
   "cell_type": "code",
   "execution_count": 27,
   "id": "5cb040b6",
   "metadata": {},
   "outputs": [
    {
     "data": {
      "text/html": [
       "\n",
       "      <iframe id=\"tensorboard-frame-60e3a96f56082b0\" width=\"100%\" height=\"800\" frameborder=\"0\">\n",
       "      </iframe>\n",
       "      <script>\n",
       "        (function() {\n",
       "          const frame = document.getElementById(\"tensorboard-frame-60e3a96f56082b0\");\n",
       "          const url = new URL(\"/\", window.location);\n",
       "          const port = 6006;\n",
       "          if (port) {\n",
       "            url.port = port;\n",
       "          }\n",
       "          frame.src = url;\n",
       "        })();\n",
       "      </script>\n",
       "    "
      ],
      "text/plain": [
       "<IPython.core.display.HTML object>"
      ]
     },
     "metadata": {},
     "output_type": "display_data"
    }
   ],
   "source": [
    "%tensorboard --logdir logs/ --host localhost"
   ]
  },
  {
   "cell_type": "code",
   "execution_count": null,
   "id": "75a6fe44",
   "metadata": {},
   "outputs": [],
   "source": []
  }
 ],
 "metadata": {
  "kernelspec": {
   "display_name": "tensorflow",
   "language": "python",
   "name": "tensorflow"
  },
  "language_info": {
   "codemirror_mode": {
    "name": "ipython",
    "version": 3
   },
   "file_extension": ".py",
   "mimetype": "text/x-python",
   "name": "python",
   "nbconvert_exporter": "python",
   "pygments_lexer": "ipython3",
   "version": "3.7.12"
  }
 },
 "nbformat": 4,
 "nbformat_minor": 5
}

{
 "cells": [
  {
   "cell_type": "markdown",
   "id": "e29677ea",
   "metadata": {},
   "source": [
    "# Exercise 1.02 - Creating Scalers, Vectors, Matrices, and Tensors in TensorFlow"
   ]
  },
  {
   "cell_type": "markdown",
   "id": "ca7f1a9a",
   "metadata": {},
   "source": [
    "## Problem Statement: \n",
    "\n",
    "Given the breakdown on votes were cast for three different candidates:\n",
    "\n",
    "- Create a scaler to store the votes cast for Candidate 1 of political party X in district A.\n",
    "\n",
    "- Create a vector to represent the proportion of votes cast for three different political candidates of political party X in district A and check its shape and rank.\n",
    "\n",
    "- Create a matrix to represent the votes cast for three different candidates of political parties X and Y and check its shape and rank\n",
    "\n",
    "- Create a tensor to represent the votes cast for three different candidates in two different districts, for three political parties, and check its shape and rank."
   ]
  },
  {
   "cell_type": "markdown",
   "id": "3029463e",
   "metadata": {},
   "source": [
    "## Index:\n",
    "\n",
    "- [#1 import libraries](http://localhost:8888/notebooks/The-TensorFlow-Workshop/TensorFlow%20Exercise%201.02.ipynb#Import-libraries)\n",
    "- [#2 Create an int variable](http://localhost:8888/notebooks/The-TensorFlow-Workshop/TensorFlow%20Exercise%201.02.ipynb#Create-a-variable-integer)\n",
    "- [#3 Create an int vector](http://localhost:8888/notebooks/The-TensorFlow-Workshop/TensorFlow%20Exercise%201.02.ipynb#Create-a-Vector)\n",
    "- [#4 Create an int matrix](http://localhost:8888/notebooks/The-TensorFlow-Workshop/TensorFlow%20Exercise%201.02.ipynb#Create-a-Matrix)\n",
    "- [#5 Create an int tensor](http://localhost:8888/notebooks/The-TensorFlow-Workshop/TensorFlow%20Exercise%201.02.ipynb#Create-a-Tensor)"
   ]
  },
  {
   "cell_type": "markdown",
   "id": "3d59efb9",
   "metadata": {},
   "source": [
    "## Import libraries"
   ]
  },
  {
   "cell_type": "code",
   "execution_count": 2,
   "id": "652e4752",
   "metadata": {},
   "outputs": [],
   "source": [
    "import tensorflow as tf"
   ]
  },
  {
   "cell_type": "markdown",
   "id": "cd15ef20",
   "metadata": {},
   "source": [
    "## Create a variable integer"
   ]
  },
  {
   "cell_type": "code",
   "execution_count": 3,
   "id": "65c3a088",
   "metadata": {},
   "outputs": [
    {
     "data": {
      "text/plain": [
       "<tf.Variable 'Variable:0' shape=() dtype=int32, numpy=4113>"
      ]
     },
     "execution_count": 3,
     "metadata": {},
     "output_type": "execute_result"
    }
   ],
   "source": [
    "int_variable = tf.Variable(4113, tf.int16)\n",
    "int_variable"
   ]
  },
  {
   "cell_type": "markdown",
   "id": "5c0ae028",
   "metadata": {},
   "source": [
    "### print the rank of the variable created (rank 0 = scaler, rank 1 = vector, rank 2 = matrix, rank 3+ = tensor)\n",
    "\n",
    "Rank is indicated by the output of numpy, which in this case is 0."
   ]
  },
  {
   "cell_type": "code",
   "execution_count": 6,
   "id": "5d02fb5b",
   "metadata": {},
   "outputs": [
    {
     "data": {
      "text/plain": [
       "<tf.Tensor: shape=(), dtype=int32, numpy=0>"
      ]
     },
     "execution_count": 6,
     "metadata": {},
     "output_type": "execute_result"
    }
   ],
   "source": [
    "tf.rank(int_variable)"
   ]
  },
  {
   "cell_type": "code",
   "execution_count": 7,
   "id": "f9989a93",
   "metadata": {},
   "outputs": [
    {
     "data": {
      "text/plain": [
       "0"
      ]
     },
     "execution_count": 7,
     "metadata": {},
     "output_type": "execute_result"
    }
   ],
   "source": [
    "tf.rank(int_variable).numpy()"
   ]
  },
  {
   "cell_type": "markdown",
   "id": "b67c0ddc",
   "metadata": {},
   "source": [
    "### This output will indicate the variable does not have a shape, which is typical for a scaler."
   ]
  },
  {
   "cell_type": "code",
   "execution_count": 8,
   "id": "75b86297",
   "metadata": {},
   "outputs": [
    {
     "data": {
      "text/plain": [
       "TensorShape([])"
      ]
     },
     "execution_count": 8,
     "metadata": {},
     "output_type": "execute_result"
    }
   ],
   "source": [
    "int_variable.shape"
   ]
  },
  {
   "cell_type": "code",
   "execution_count": 9,
   "id": "869bb793",
   "metadata": {},
   "outputs": [
    {
     "data": {
      "text/plain": [
       "[]"
      ]
     },
     "execution_count": 9,
     "metadata": {},
     "output_type": "execute_result"
    }
   ],
   "source": [
    "int_variable.shape.as_list()"
   ]
  },
  {
   "cell_type": "markdown",
   "id": "916c0b76",
   "metadata": {},
   "source": [
    "## Create a Vector\n",
    "\n",
    "Pass a list for the vector to represent the proportion of votes cast for three different candidates, and pass in a second argument for the datatype as tf.float32 to ensure that it is a float datatype."
   ]
  },
  {
   "cell_type": "code",
   "execution_count": 12,
   "id": "f2a3cff8",
   "metadata": {},
   "outputs": [
    {
     "data": {
      "text/plain": [
       "<tf.Variable 'Variable:0' shape=(3,) dtype=float32, numpy=array([0.23, 0.42, 0.35], dtype=float32)>"
      ]
     },
     "execution_count": 12,
     "metadata": {},
     "output_type": "execute_result"
    }
   ],
   "source": [
    "vector_variable = tf.Variable([0.23, 0.42, 0.35])\n",
    "\n",
    "vector_variable"
   ]
  },
  {
   "cell_type": "markdown",
   "id": "fcce22e3",
   "metadata": {},
   "source": [
    "### Print the rank of the vector, rank 1 = vector"
   ]
  },
  {
   "cell_type": "code",
   "execution_count": 13,
   "id": "b97c432a",
   "metadata": {
    "scrolled": true
   },
   "outputs": [
    {
     "data": {
      "text/plain": [
       "1"
      ]
     },
     "execution_count": 13,
     "metadata": {},
     "output_type": "execute_result"
    }
   ],
   "source": [
    "tf.rank(vector_variable).numpy()"
   ]
  },
  {
   "cell_type": "markdown",
   "id": "825c2b55",
   "metadata": {},
   "source": [
    "### Print the shape of the vector as a Python list"
   ]
  },
  {
   "cell_type": "code",
   "execution_count": 14,
   "id": "ce64b5da",
   "metadata": {},
   "outputs": [
    {
     "data": {
      "text/plain": [
       "[3]"
      ]
     },
     "execution_count": 14,
     "metadata": {},
     "output_type": "execute_result"
    }
   ],
   "source": [
    "vector_variable.shape.as_list()"
   ]
  },
  {
   "cell_type": "markdown",
   "id": "549eb771",
   "metadata": {},
   "source": [
    "## Create a Matrix\n",
    "\n",
    "Pass a list of lists of integers for the matrix to represent the votes cast for three different candidates in two different districts. The matrix will have three columns representing the candidates, and two rows representing the districts."
   ]
  },
  {
   "cell_type": "code",
   "execution_count": 45,
   "id": "2e52684a",
   "metadata": {},
   "outputs": [
    {
     "data": {
      "text/plain": [
       "<tf.Variable 'Variable:0' shape=(2, 3) dtype=int32, numpy=\n",
       "array([[4113, 7511, 6259],\n",
       "       [3870, 6725, 6962]])>"
      ]
     },
     "execution_count": 45,
     "metadata": {},
     "output_type": "execute_result"
    }
   ],
   "source": [
    "matrix_variable = tf.Variable([[4113, 7511, 6259], \\\n",
    "                                [3870, 6725, 6962]], tf.int32)\n",
    "\n",
    "matrix_variable"
   ]
  },
  {
   "cell_type": "markdown",
   "id": "d9ab4251",
   "metadata": {},
   "source": [
    "### Print its rank to verify it's a matrix"
   ]
  },
  {
   "cell_type": "code",
   "execution_count": 46,
   "id": "4d9e8241",
   "metadata": {},
   "outputs": [
    {
     "data": {
      "text/plain": [
       "2"
      ]
     },
     "execution_count": 46,
     "metadata": {},
     "output_type": "execute_result"
    }
   ],
   "source": [
    "tf.rank(matrix_variable).numpy()"
   ]
  },
  {
   "cell_type": "markdown",
   "id": "2a02e264",
   "metadata": {},
   "source": [
    "### Print the shape of the matrix\n",
    "\n",
    "\n",
    "This represents the amount of rows and columns in each row: [rows, columns]"
   ]
  },
  {
   "cell_type": "code",
   "execution_count": 47,
   "id": "b31c342c",
   "metadata": {},
   "outputs": [
    {
     "data": {
      "text/plain": [
       "[2, 3]"
      ]
     },
     "execution_count": 47,
     "metadata": {},
     "output_type": "execute_result"
    }
   ],
   "source": [
    "matrix_variable.shape.as_list()"
   ]
  },
  {
   "cell_type": "markdown",
   "id": "f863fea9",
   "metadata": {},
   "source": [
    "## Create a Tensor\n",
    "\n",
    "Pass in a triple nested list of integers for the tensor to represent the votes cast for three different candidates in two different districts, for three political parties.\n",
    "\n",
    "It's hard to see, but below the structure is as follows: two arrays are in three groups, and all three groups are in another group all its own. Each array has 3 values, each group of arrays have 2 arrays, and there are three groups of two."
   ]
  },
  {
   "cell_type": "code",
   "execution_count": 54,
   "id": "b783f989",
   "metadata": {},
   "outputs": [
    {
     "data": {
      "text/plain": [
       "<tf.Variable 'Variable:0' shape=(3, 2, 3) dtype=int32, numpy=\n",
       "array([[[4113, 7511, 6259],\n",
       "        [3870, 6725, 6962]],\n",
       "\n",
       "       [[5102, 7038, 6591],\n",
       "        [3661, 5901, 6235]],\n",
       "\n",
       "       [[ 951, 1208, 1098],\n",
       "        [ 870,  645,  948]]])>"
      ]
     },
     "execution_count": 54,
     "metadata": {},
     "output_type": "execute_result"
    }
   ],
   "source": [
    "tensor_variable = tf.Variable([[[4113, 7511, 6259], \n",
    "                               [3870, 6725, 6962]],\n",
    "                               \n",
    "                              [[5102, 7038, 6591],\n",
    "                               [3661, 5901, 6235]],\n",
    "                               \n",
    "                              [[951, 1208, 1098],\n",
    "                               [870, 645, 948]]])\n",
    "\n",
    "tensor_variable"
   ]
  },
  {
   "cell_type": "markdown",
   "id": "b537a718",
   "metadata": {},
   "source": [
    "### Confirm its a tensor with a rank of three"
   ]
  },
  {
   "cell_type": "code",
   "execution_count": 55,
   "id": "1aa410c6",
   "metadata": {},
   "outputs": [
    {
     "data": {
      "text/plain": [
       "3"
      ]
     },
     "execution_count": 55,
     "metadata": {},
     "output_type": "execute_result"
    }
   ],
   "source": [
    "tf.rank(tensor_variable).numpy()"
   ]
  },
  {
   "cell_type": "markdown",
   "id": "3532f628",
   "metadata": {},
   "source": [
    "### print the shape of the tensor"
   ]
  },
  {
   "cell_type": "code",
   "execution_count": 56,
   "id": "503c0b76",
   "metadata": {
    "scrolled": true
   },
   "outputs": [
    {
     "data": {
      "text/plain": [
       "[3, 2, 3]"
      ]
     },
     "execution_count": 56,
     "metadata": {},
     "output_type": "execute_result"
    }
   ],
   "source": [
    "tensor_variable.shape.as_list()"
   ]
  },
  {
   "cell_type": "code",
   "execution_count": null,
   "id": "07e743ce",
   "metadata": {},
   "outputs": [],
   "source": []
  }
 ],
 "metadata": {
  "kernelspec": {
   "display_name": "tensorflow",
   "language": "python",
   "name": "tensorflow"
  },
  "language_info": {
   "codemirror_mode": {
    "name": "ipython",
    "version": 3
   },
   "file_extension": ".py",
   "mimetype": "text/x-python",
   "name": "python",
   "nbconvert_exporter": "python",
   "pygments_lexer": "ipython3",
   "version": "3.7.12"
  }
 },
 "nbformat": 4,
 "nbformat_minor": 5
}

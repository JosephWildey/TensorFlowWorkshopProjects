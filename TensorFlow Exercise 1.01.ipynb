{
 "cells": [
  {
   "cell_type": "markdown",
   "id": "719acdb2",
   "metadata": {},
   "source": [
    "# Exercise 1.01: Verifying Your Version of TensorFlow"
   ]
  },
  {
   "cell_type": "markdown",
   "id": "75df34bb",
   "metadata": {},
   "source": [
    "## Import libraries"
   ]
  },
  {
   "cell_type": "code",
   "execution_count": 1,
   "id": "da22e19d",
   "metadata": {},
   "outputs": [],
   "source": [
    "import tensorflow as tf"
   ]
  },
  {
   "cell_type": "markdown",
   "id": "3efbf9a8",
   "metadata": {},
   "source": [
    "### Use a magic method called 'version' to check the version"
   ]
  },
  {
   "cell_type": "code",
   "execution_count": 2,
   "id": "357c7352",
   "metadata": {},
   "outputs": [
    {
     "data": {
      "text/plain": [
       "'2.6.0'"
      ]
     },
     "execution_count": 2,
     "metadata": {},
     "output_type": "execute_result"
    }
   ],
   "source": [
    "tf.__version__"
   ]
  },
  {
   "cell_type": "code",
   "execution_count": null,
   "id": "7fb05242",
   "metadata": {},
   "outputs": [],
   "source": []
  }
 ],
 "metadata": {
  "kernelspec": {
   "display_name": "tensorflow",
   "language": "python",
   "name": "tensorflow"
  },
  "language_info": {
   "codemirror_mode": {
    "name": "ipython",
    "version": 3
   },
   "file_extension": ".py",
   "mimetype": "text/x-python",
   "name": "python",
   "nbconvert_exporter": "python",
   "pygments_lexer": "ipython3",
   "version": "3.7.12"
  }
 },
 "nbformat": 4,
 "nbformat_minor": 5
}
